{
 "cells": [
  {
   "cell_type": "code",
   "execution_count": 1,
   "id": "7ddcf144",
   "metadata": {},
   "outputs": [],
   "source": [
    "CATBOOST_VERSION = 18.0\n",
    "NFOLDS = 10\n",
    "SEED = 0\n",
    "NCOMP = 50\n",
    "P = 0.03"
   ]
  },
  {
   "cell_type": "code",
   "execution_count": 2,
   "id": "23be7710",
   "metadata": {},
   "outputs": [],
   "source": [
    "import warnings\n",
    "warnings.filterwarnings(\"ignore\")\n",
    "\n",
    "import pandas as pd\n",
    "import numpy as np\n",
    "import matplotlib.pyplot as plt\n",
    "import seaborn as sns\n",
    "from sklearn.pipeline import Pipeline, make_pipeline\n",
    "from sklearn.compose import ColumnTransformer\n",
    "from sklearn.preprocessing import FunctionTransformer\n",
    "from sklearn.base import BaseEstimator, TransformerMixin\n",
    "from sklearn.impute import SimpleImputer\n",
    "from sklearn.preprocessing import PowerTransformer \n",
    "from sklearn.preprocessing import OrdinalEncoder, OneHotEncoder\n",
    "from sklearn.feature_selection import SelectPercentile, SelectKBest\n",
    "from sklearn.model_selection import train_test_split, KFold, cross_validate, ShuffleSplit\n",
    "from sklearn.feature_extraction.text import CountVectorizer\n",
    "from sklearn.decomposition import PCA, TruncatedSVD\n",
    "from sklearn.metrics import mean_squared_error\n",
    "from sklearn import set_config\n",
    "from catboost import CatBoostRegressor\n",
    "import re\n",
    "import statsmodels.api as sm"
   ]
  },
  {
   "cell_type": "code",
   "execution_count": 3,
   "id": "1cde8e29",
   "metadata": {},
   "outputs": [],
   "source": [
    "\n",
    "X_train = pd.read_csv('data/X_train.csv', encoding='cp949').drop(columns='ID')\n",
    "y_train = pd.read_csv('data/y_train.csv', encoding='cp949').Salary\n",
    "\n",
    "X_test = pd.read_csv('data/X_test.csv', encoding='cp949')\n",
    "test_id = X_test.ID\n",
    "X_test = X_test.drop(columns='ID')"
   ]
  },
  {
   "cell_type": "code",
   "execution_count": 4,
   "id": "68364f75",
   "metadata": {},
   "outputs": [
    {
     "name": "stdout",
     "output_type": "stream",
     "text": [
      "<class 'pandas.core.frame.DataFrame'>\n",
      "RangeIndex: 16570 entries, 0 to 16569\n",
      "Data columns (total 11 columns):\n",
      " #   Column  Non-Null Count  Dtype  \n",
      "---  ------  --------------  -----  \n",
      " 0   직종      16570 non-null  object \n",
      " 1   세부직종    16570 non-null  object \n",
      " 2   직무태그    14055 non-null  object \n",
      " 3   근무경력    16570 non-null  object \n",
      " 4   근무형태    6661 non-null   object \n",
      " 5   근무지역    16570 non-null  object \n",
      " 6   출신대학    16570 non-null  object \n",
      " 7   대학전공    16570 non-null  object \n",
      " 8   어학시험    4988 non-null   object \n",
      " 9   자격증     16570 non-null  object \n",
      " 10  대학성적    14600 non-null  float64\n",
      "dtypes: float64(1), object(10)\n",
      "memory usage: 1.4+ MB\n"
     ]
    }
   ],
   "source": [
    "X_train.info()"
   ]
  },
  {
   "cell_type": "code",
   "execution_count": 5,
   "id": "7db70144",
   "metadata": {},
   "outputs": [],
   "source": [
    "X_train['NaN_count'] = X_train.isnull().sum(1)\n",
    "X_test['NaN_count'] = X_test.isnull().sum(1)"
   ]
  },
  {
   "cell_type": "code",
   "execution_count": 6,
   "id": "1a7c6e9d",
   "metadata": {},
   "outputs": [],
   "source": [
    "X_train['NotNull_count'] = X_train.notnull().sum(1) -1\n",
    "X_test['NotNull_count'] = X_test.notnull().sum(1) -1"
   ]
  },
  {
   "cell_type": "code",
   "execution_count": 7,
   "id": "ce88c69c",
   "metadata": {},
   "outputs": [
    {
     "data": {
      "text/html": [
       "<div>\n",
       "<style scoped>\n",
       "    .dataframe tbody tr th:only-of-type {\n",
       "        vertical-align: middle;\n",
       "    }\n",
       "\n",
       "    .dataframe tbody tr th {\n",
       "        vertical-align: top;\n",
       "    }\n",
       "\n",
       "    .dataframe thead th {\n",
       "        text-align: right;\n",
       "    }\n",
       "</style>\n",
       "<table border=\"1\" class=\"dataframe\">\n",
       "  <thead>\n",
       "    <tr style=\"text-align: right;\">\n",
       "      <th></th>\n",
       "      <th>직종</th>\n",
       "      <th>세부직종</th>\n",
       "      <th>직무태그</th>\n",
       "      <th>근무경력</th>\n",
       "      <th>근무형태</th>\n",
       "      <th>근무지역</th>\n",
       "      <th>출신대학</th>\n",
       "      <th>대학전공</th>\n",
       "      <th>어학시험</th>\n",
       "      <th>자격증</th>\n",
       "      <th>대학성적</th>\n",
       "      <th>NaN_count</th>\n",
       "      <th>NotNull_count</th>\n",
       "    </tr>\n",
       "  </thead>\n",
       "  <tbody>\n",
       "    <tr>\n",
       "      <th>0</th>\n",
       "      <td>문화·예술·신문·방송</td>\n",
       "      <td>영상·음향·사진·카메라</td>\n",
       "      <td>취재기자, 편집 기사, 유아 사이트 기획, 시나리오 작성</td>\n",
       "      <td>0개월</td>\n",
       "      <td>NaN</td>\n",
       "      <td>서울,경기,서울</td>\n",
       "      <td>성균관대학교</td>\n",
       "      <td>국문</td>\n",
       "      <td>NaN</td>\n",
       "      <td>無</td>\n",
       "      <td>70.0</td>\n",
       "      <td>2</td>\n",
       "      <td>9</td>\n",
       "    </tr>\n",
       "    <tr>\n",
       "      <th>1</th>\n",
       "      <td>경영·기획·회계·사무</td>\n",
       "      <td>사무·총무·법무</td>\n",
       "      <td>NaN</td>\n",
       "      <td>2년 11개월</td>\n",
       "      <td>정규직</td>\n",
       "      <td>부산,서울,일본</td>\n",
       "      <td>신라대학교</td>\n",
       "      <td>관광경영</td>\n",
       "      <td>JLPT</td>\n",
       "      <td>無</td>\n",
       "      <td>NaN</td>\n",
       "      <td>2</td>\n",
       "      <td>9</td>\n",
       "    </tr>\n",
       "  </tbody>\n",
       "</table>\n",
       "</div>"
      ],
      "text/plain": [
       "            직종          세부직종                             직무태그     근무경력 근무형태  \\\n",
       "0  문화·예술·신문·방송  영상·음향·사진·카메라  취재기자, 편집 기사, 유아 사이트 기획, 시나리오 작성      0개월  NaN   \n",
       "1  경영·기획·회계·사무      사무·총무·법무                              NaN  2년 11개월  정규직   \n",
       "\n",
       "       근무지역    출신대학  대학전공  어학시험 자격증  대학성적  NaN_count  NotNull_count  \n",
       "0  서울,경기,서울  성균관대학교    국문   NaN   無  70.0          2              9  \n",
       "1  부산,서울,일본   신라대학교  관광경영  JLPT   無   NaN          2              9  "
      ]
     },
     "execution_count": 7,
     "metadata": {},
     "output_type": "execute_result"
    }
   ],
   "source": [
    "X_train.head(2)"
   ]
  },
  {
   "cell_type": "code",
   "execution_count": 8,
   "id": "cafb964a",
   "metadata": {},
   "outputs": [],
   "source": [
    "X_train_af = pd.read_csv('data/X_train_김종윤.csv', encoding='cp949')\n",
    "y_train_af = pd.read_csv('data/y_train_김종윤.csv', encoding='cp949')\n",
    "\n",
    "X_test_af = pd.read_csv('data/X_test_김종윤.csv', encoding='cp949')"
   ]
  },
  {
   "cell_type": "markdown",
   "id": "62159426",
   "metadata": {},
   "source": [
    "#### 근무경력-년 월 구분"
   ]
  },
  {
   "cell_type": "code",
   "execution_count": 9,
   "id": "229df564",
   "metadata": {},
   "outputs": [],
   "source": [
    "X_train_a, X_test_a = X_train.copy(), X_test.copy()\n",
    "X_all = pd.concat([X_train_a,X_test_a], ignore_index=True)"
   ]
  },
  {
   "cell_type": "code",
   "execution_count": 10,
   "id": "4c3fc8bd",
   "metadata": {},
   "outputs": [],
   "source": [
    "for i in range(len(X_all.근무경력)):\n",
    "    if len(X_all.근무경력[i]) == 3 or len(X_all.근무경력[i]) == 4:\n",
    "        X_all.근무경력[i] = '0년 ' + X_all.근무경력[i]"
   ]
  },
  {
   "cell_type": "code",
   "execution_count": 11,
   "id": "3407c0d1",
   "metadata": {},
   "outputs": [],
   "source": [
    "we = X_all.근무경력.str.split(' ',expand=True)\n",
    "we.columns = ['년','개월']"
   ]
  },
  {
   "cell_type": "code",
   "execution_count": 12,
   "id": "0a8e01fb",
   "metadata": {},
   "outputs": [],
   "source": [
    "# year, month로 구분하여 열 생성\n",
    "we = X_all.근무경력.str.split(' ',expand=True)\n",
    "we.columns = ['년','개월']\n",
    "\n",
    "we_y = we.년.str.split('년', expand=True) \n",
    "we_y.columns = ['년','삭제']\n",
    "we_y.drop('삭제',axis=1,inplace=True)\n",
    "we_y = we_y.astype(int) \n",
    "\n",
    "we_m = we.개월.str.split('개월', expand=True)\n",
    "we_m.columns = ['개월','삭제']\n",
    "we_m.drop('삭제',axis=1,inplace=True)\n",
    "we_m = we_m.astype(int)\n",
    "\n",
    "X_all['근무경력_y'] = we_y['년']\n",
    "X_all['근무경력_m'] = we_m['개월']"
   ]
  },
  {
   "cell_type": "code",
   "execution_count": 13,
   "id": "3cee5e81",
   "metadata": {},
   "outputs": [],
   "source": [
    "X_train = X_all.iloc[:X_train.shape[0],:].reset_index(drop=True)\n",
    "X_test = X_all.iloc[X_train.shape[0]:,:].reset_index(drop=True)"
   ]
  },
  {
   "cell_type": "code",
   "execution_count": 14,
   "id": "3ee8f2d0",
   "metadata": {},
   "outputs": [],
   "source": [
    "### 경력을 수치로 변환\n",
    "\n",
    "def f1(x):\n",
    "    numbers = re.findall(r'\\d+', x)\n",
    "    return int(numbers[0])*12 if len(numbers) == 1 else int(numbers[0])*12+int(numbers[1])\n",
    "\n",
    "X_train['근무경력'] = X_train['근무경력'].apply(f1)\n",
    "X_test['근무경력'] = X_test['근무경력'].apply(f1)"
   ]
  },
  {
   "cell_type": "markdown",
   "id": "807d73c2",
   "metadata": {},
   "source": [
    "#### 근무경력 제곱항 추가"
   ]
  },
  {
   "cell_type": "code",
   "execution_count": 15,
   "id": "04e0925b",
   "metadata": {},
   "outputs": [],
   "source": [
    "X_train['근무경력^2'] = np.square(X_train['근무경력'])\n",
    "X_test['근무경력^2'] = np.square(X_test['근무경력'])"
   ]
  },
  {
   "cell_type": "markdown",
   "id": "42b4e0c6",
   "metadata": {},
   "source": [
    "#### 근무경력 세분화"
   ]
  },
  {
   "cell_type": "code",
   "execution_count": 16,
   "id": "91c34042",
   "metadata": {},
   "outputs": [],
   "source": [
    "def seg_worklength(x):\n",
    "    if 0.0 <= x < 24.0:\n",
    "        x = '0to2'\n",
    "    elif 24 <= x < 48:\n",
    "        x = '2to4'\n",
    "    elif 48 <= x < 72: \n",
    "        x = '4to6'\n",
    "    elif 72 <= x < 96:\n",
    "        x = '6to8'\n",
    "    elif 96 <= x < 120:\n",
    "        x = '8to10'\n",
    "    elif 120 <= x:\n",
    "        x = 'over10'\n",
    "    return x\n",
    "    \n",
    "X_train['근무경력_세분화'] = X_train['근무경력'].apply(seg_worklength)\n",
    "X_test['근무경력_세분화'] =X_test['근무경력'].apply(seg_worklength)"
   ]
  },
  {
   "cell_type": "markdown",
   "id": "a70414d5",
   "metadata": {},
   "source": [
    "####  마지막 근무형태"
   ]
  },
  {
   "cell_type": "code",
   "execution_count": 17,
   "id": "10706b0f",
   "metadata": {},
   "outputs": [],
   "source": [
    "X_train_cp, X_test_cp = X_train.copy(), X_test.copy()"
   ]
  },
  {
   "cell_type": "code",
   "execution_count": 18,
   "id": "eda9bf7b",
   "metadata": {},
   "outputs": [],
   "source": [
    "X_train_cp['근무형태'].fillna('N', inplace=True)\n",
    "X_test_cp['근무형태'].fillna('N', inplace=True)"
   ]
  },
  {
   "cell_type": "code",
   "execution_count": 19,
   "id": "2bcaf11e",
   "metadata": {},
   "outputs": [],
   "source": [
    "X_train['마지막근무형태'] = 0\n",
    "for i,j in enumerate(X_train_cp['근무형태']) :\n",
    "    X_train_cp['근무형태'][i] = j.rstrip(', ')\n",
    "for i,j in enumerate(X_train_cp['근무형태'].str.split(', ')):\n",
    "    X_train['마지막근무형태'][i] = j[-1]\n",
    "\n",
    "\n",
    "\n",
    "X_test['마지막근무형태'] = 0\n",
    "for i,j in enumerate(X_test_cp['근무형태']) :\n",
    "    X_test_cp['근무형태'][i] = j.rstrip(', ')\n",
    "for i,j in enumerate(X_test_cp['근무형태'].str.split(', ')):\n",
    "    X_test['마지막근무형태'][i] = j[-1]"
   ]
  },
  {
   "cell_type": "markdown",
   "id": "4843326f",
   "metadata": {},
   "source": [
    "#### 해외근무지역 피쳐"
   ]
  },
  {
   "cell_type": "code",
   "execution_count": 20,
   "id": "99ab45dd",
   "metadata": {},
   "outputs": [],
   "source": [
    "korea = ['서울','부산', '경기', '전국', '기타', '전북', '충남', '광주', '인천', '대전', '경남','충북','울산', '경북', '강원','전남'\n",
    "        ,'대구','제주','광주']\n",
    "foreign = ['홍콩','미국','해외','중국','캐나다','인도네시아','일본','싱가포르','필리핀','대만','말레이시아','인도네시아','러시아','인도'\n",
    "          ,'프랑스','필리핀','말레이시아','방글라데시']\n",
    "world = korea + foreign\n",
    "\n",
    "f_f = X_train.근무지역.str.split(',',expand=True)[0].isin(foreign)\n",
    "s_f = X_train.근무지역.str.split(',',expand=True)[1].isin(foreign)\n",
    "t_f = X_train.근무지역.str.split(',',expand=True)[2].isin(foreign)\n",
    "\n",
    "c = (f_f | s_f | t_f)\n",
    "\n",
    "c_index = X_train.loc[c,'근무지역'].index\n",
    "\n",
    "X_train['해외근무지역'] =  (X_train.index).isin(c_index)\n",
    "\n",
    "f_f = X_test.근무지역.str.split(',',expand=True)[0].isin(foreign)\n",
    "s_f = X_test.근무지역.str.split(',',expand=True)[1].isin(foreign)\n",
    "t_f = X_test.근무지역.str.split(',',expand=True)[2].isin(foreign)\n",
    "\n",
    "c = (f_f | s_f | t_f)\n",
    "\n",
    "ct_index = X_test.loc[c,'근무지역'].index\n",
    "\n",
    "X_test['해외근무지역'] =  (X_test.index).isin(ct_index)\n",
    "\n",
    "X_train['해외근무지역'] = X_train['해외근무지역'].apply(lambda x: '유' if x== True else '무')\n",
    "X_test['해외근무지역'] = X_test['해외근무지역'].apply(lambda x: '유' if x== True else '무')"
   ]
  },
  {
   "cell_type": "markdown",
   "id": "26356eb8",
   "metadata": {},
   "source": [
    "#### 근무지역 abc"
   ]
  },
  {
   "cell_type": "code",
   "execution_count": 21,
   "id": "eb3b16ea",
   "metadata": {},
   "outputs": [],
   "source": [
    "a = X_train['근무지역'].str.split(',')\n",
    "b = []\n",
    "c = []\n",
    "d = []\n",
    "for i in a :\n",
    "    b.append(i[0])\n",
    "    c.append(i[1])    \n",
    "    d.append(i[2])    \n",
    "\n",
    "b = pd.Series(b)\n",
    "c = pd.Series(c)\n",
    "d = pd.Series(d)\n",
    "\n",
    "a = pd.concat([b,c,d],axis=1)\n",
    "a.columns = ['근무지역_a','근무지역_b','근무지역_c']\n",
    "\n",
    "X_train.replace({'근무지역_c':{'':'N'},\n",
    "                '근무지역_b':{'':'N'}},inplace=True)\n",
    "\n",
    "X_train = pd.concat([X_train,a], axis=1)"
   ]
  },
  {
   "cell_type": "code",
   "execution_count": 22,
   "id": "6cd76402",
   "metadata": {},
   "outputs": [],
   "source": [
    "a = X_test['근무지역'].str.split(',')\n",
    "b = []\n",
    "c = []\n",
    "d = []\n",
    "for i in a :\n",
    "    b.append(i[0])\n",
    "    c.append(i[1])    \n",
    "    d.append(i[2])    \n",
    "\n",
    "b = pd.Series(b)\n",
    "c = pd.Series(c)\n",
    "d = pd.Series(d)\n",
    "\n",
    "a = pd.concat([b,c,d],axis=1)\n",
    "a.columns = ['근무지역_a','근무지역_b','근무지역_c']\n",
    "\n",
    "X_test.replace({'근무지역_c':{'':'N'},\n",
    "                '근무지역_b':{'':'N'}},inplace=True)\n",
    "\n",
    "X_test = pd.concat([X_test,a], axis=1)"
   ]
  },
  {
   "cell_type": "markdown",
   "id": "3538fcf0",
   "metadata": {},
   "source": [
    "#### 근무희망형태"
   ]
  },
  {
   "cell_type": "code",
   "execution_count": 23,
   "id": "d5b79ddd",
   "metadata": {
    "scrolled": true
   },
   "outputs": [],
   "source": [
    "X_train['근무희망형태'] = X_train_af['근무희망형태']\n",
    "X_test['근무희망형태'] = X_test_af['근무희망형태']\n",
    "\n",
    "X_train['근무희망형태'] = X_train['근무희망형태'].astype(str)\n",
    "X_test['근무희망형태'] = X_test['근무희망형태'].astype(str)"
   ]
  },
  {
   "cell_type": "markdown",
   "id": "7b051a98",
   "metadata": {},
   "source": [
    "#### 단과대"
   ]
  },
  {
   "cell_type": "code",
   "execution_count": 24,
   "id": "ee85d04a",
   "metadata": {},
   "outputs": [],
   "source": [
    "df_college = pd.read_csv('data/단과대_최종.csv', encoding='cp949')"
   ]
  },
  {
   "cell_type": "code",
   "execution_count": 25,
   "id": "19884196",
   "metadata": {},
   "outputs": [],
   "source": [
    "인문대 = list(df_college['인문대'])\n",
    "사과대 = list(df_college['사과대'])\n",
    "경영경제대 = list(df_college['경영경제대'])\n",
    "교육대 = list(df_college['교육대'])\n",
    "예체능 = list(df_college['예체능'])\n",
    "공대 = list(df_college['공대'])\n",
    "보건계열 = list(df_college['보건계열'])\n",
    "자연과학대 = list(df_college['자연과학'])\n",
    "법대 = list(df_college['법대'])\n",
    "소프트웨어대 = list(df_college['소프트웨어'])\n",
    "농축산대 = list(df_college['농축산대'])\n",
    "건축대 = list(df_college['건축대'])\n",
    "신학대 = list(df_college['신학대'])\n",
    "결측 = list(df_college['결측'])"
   ]
  },
  {
   "cell_type": "code",
   "execution_count": 26,
   "id": "9964ae69",
   "metadata": {},
   "outputs": [],
   "source": [
    "X_train['단과대'] = X_train.대학전공.copy()\n",
    "X_test['단과대'] = X_test.대학전공.copy()"
   ]
  },
  {
   "cell_type": "code",
   "execution_count": 27,
   "id": "e7cf135a",
   "metadata": {},
   "outputs": [],
   "source": [
    "X_train['단과대'] = X_train['단과대'].replace(인문대, '인문대')\n",
    "X_train['단과대'] = X_train['단과대'].replace(사과대, '사과대')\n",
    "X_train['단과대'] = X_train['단과대'].replace(경영경제대, '경영경제대')\n",
    "X_train['단과대'] = X_train['단과대'].replace(교육대, '교육대')\n",
    "X_train['단과대'] = X_train['단과대'].replace(예체능, '예체능')\n",
    "X_train['단과대'] = X_train['단과대'].replace(공대, '공대')\n",
    "X_train['단과대'] = X_train['단과대'].replace(보건계열, '보건계열')\n",
    "X_train['단과대'] = X_train['단과대'].replace(자연과학대, '자연과학')\n",
    "X_train['단과대'] = X_train['단과대'].replace(법대, '법대')\n",
    "X_train['단과대'] = X_train['단과대'].replace(소프트웨어대, '소프트웨어대')\n",
    "X_train['단과대'] = X_train['단과대'].replace(농축산대, '농축산대')\n",
    "X_train['단과대'] = X_train['단과대'].replace(건축대, '건축대')\n",
    "X_train['단과대'] = X_train['단과대'].replace(신학대, '신학대')\n",
    "X_train['단과대'] = X_train['단과대'].replace(결측, '결측')"
   ]
  },
  {
   "cell_type": "code",
   "execution_count": 28,
   "id": "5ad06fc2",
   "metadata": {},
   "outputs": [],
   "source": [
    "X_test['단과대'] = X_test['단과대'].replace(인문대, '인문대')\n",
    "X_test['단과대'] = X_test['단과대'].replace(사과대, '사과대')\n",
    "X_test['단과대'] = X_test['단과대'].replace(경영경제대, '경영경제대')\n",
    "X_test['단과대'] = X_test['단과대'].replace(교육대, '교육대')\n",
    "X_test['단과대'] = X_test['단과대'].replace(예체능, '예체능')\n",
    "X_test['단과대'] = X_test['단과대'].replace(공대, '공대')\n",
    "X_test['단과대'] = X_test['단과대'].replace(보건계열, '보건계열')\n",
    "X_test['단과대'] = X_test['단과대'].replace(자연과학대, '자연과학')\n",
    "X_test['단과대'] = X_test['단과대'].replace(법대, '법대')\n",
    "X_test['단과대'] = X_test['단과대'].replace(소프트웨어대, '소프트웨어대')\n",
    "X_test['단과대'] = X_test['단과대'].replace(농축산대, '농축산대')\n",
    "X_test['단과대'] = X_test['단과대'].replace(건축대, '건축대')\n",
    "X_test['단과대'] = X_test['단과대'].replace(신학대, '신학대')\n",
    "X_test['단과대'] = X_test['단과대'].replace(결측, '결측')"
   ]
  },
  {
   "cell_type": "code",
   "execution_count": 29,
   "id": "f640fa22",
   "metadata": {},
   "outputs": [
    {
     "data": {
      "text/plain": [
       "경영경제대     4032\n",
       "공대        3160\n",
       "인문대       2310\n",
       "예체능       1879\n",
       "소프트웨어대    1853\n",
       "사과대       1245\n",
       "자연과학      1036\n",
       "법대         319\n",
       "교육대        237\n",
       "건축대        218\n",
       "농축산대       111\n",
       "보건계열        81\n",
       "신학대         61\n",
       "결측          28\n",
       "Name: 단과대, dtype: int64"
      ]
     },
     "execution_count": 29,
     "metadata": {},
     "output_type": "execute_result"
    }
   ],
   "source": [
    "X_train['단과대'].value_counts()"
   ]
  },
  {
   "cell_type": "markdown",
   "id": "74c4204a",
   "metadata": {},
   "source": [
    "#### id 생성"
   ]
  },
  {
   "cell_type": "code",
   "execution_count": 30,
   "id": "73bc3c1d",
   "metadata": {},
   "outputs": [],
   "source": [
    "X_train['ID'] = \\\n",
    "X_train['근무경력'].astype(str) + '_' + X_train['출신대학'].astype(str) + '_' +\\\n",
    "X_train['대학전공'].astype(str) + '_' + X_train['어학시험'].astype(str) + '_' +\\\n",
    "X_train['자격증'].astype(str) + '_' + X_train['대학성적'].astype(str) "
   ]
  },
  {
   "cell_type": "code",
   "execution_count": 31,
   "id": "96bf5e80",
   "metadata": {},
   "outputs": [],
   "source": [
    "X_test['ID'] = \\\n",
    "X_test['근무경력'].astype(str) + '_' + X_test['출신대학'].astype(str) + '_' +\\\n",
    "X_test['대학전공'].astype(str) + '_' + X_test['어학시험'].astype(str) + '_' +\\\n",
    "X_test['자격증'].astype(str) + '_' + X_test['대학성적'].astype(str) "
   ]
  },
  {
   "cell_type": "markdown",
   "id": "8934212f",
   "metadata": {},
   "source": [
    "#### 대학전공, 경력세분화"
   ]
  },
  {
   "cell_type": "code",
   "execution_count": 32,
   "id": "d463b084",
   "metadata": {},
   "outputs": [],
   "source": [
    "X_train['대학전공_and_경력세분화'] = X_train_af['대학전공_and_경력세분화']\n",
    "X_test['대학전공_and_경력세분화'] = X_test_af['대학전공_and_경력세분화']"
   ]
  },
  {
   "cell_type": "markdown",
   "id": "cf417a2f",
   "metadata": {},
   "source": [
    "#### 어학시험 범주 묶기"
   ]
  },
  {
   "cell_type": "code",
   "execution_count": 33,
   "id": "a9f825d4",
   "metadata": {},
   "outputs": [],
   "source": [
    "X_train.replace({'어학시험':{' ':'N'}}, inplace=True)\n",
    "X_train.어학시험.fillna('N', inplace=True)"
   ]
  },
  {
   "cell_type": "code",
   "execution_count": 34,
   "id": "0d02ae1d",
   "metadata": {},
   "outputs": [],
   "source": [
    "X_train['어학시험언어'] = 'N'"
   ]
  },
  {
   "cell_type": "code",
   "execution_count": 35,
   "id": "47218f4f",
   "metadata": {},
   "outputs": [
    {
     "data": {
      "text/html": [
       "<div>\n",
       "<style scoped>\n",
       "    .dataframe tbody tr th:only-of-type {\n",
       "        vertical-align: middle;\n",
       "    }\n",
       "\n",
       "    .dataframe tbody tr th {\n",
       "        vertical-align: top;\n",
       "    }\n",
       "\n",
       "    .dataframe thead th {\n",
       "        text-align: right;\n",
       "    }\n",
       "</style>\n",
       "<table border=\"1\" class=\"dataframe\">\n",
       "  <thead>\n",
       "    <tr style=\"text-align: right;\">\n",
       "      <th></th>\n",
       "      <th>직종</th>\n",
       "      <th>세부직종</th>\n",
       "      <th>직무태그</th>\n",
       "      <th>근무경력</th>\n",
       "      <th>근무형태</th>\n",
       "      <th>근무지역</th>\n",
       "      <th>출신대학</th>\n",
       "      <th>대학전공</th>\n",
       "      <th>어학시험</th>\n",
       "      <th>자격증</th>\n",
       "      <th>...</th>\n",
       "      <th>마지막근무형태</th>\n",
       "      <th>해외근무지역</th>\n",
       "      <th>근무지역_a</th>\n",
       "      <th>근무지역_b</th>\n",
       "      <th>근무지역_c</th>\n",
       "      <th>근무희망형태</th>\n",
       "      <th>단과대</th>\n",
       "      <th>ID</th>\n",
       "      <th>대학전공_and_경력세분화</th>\n",
       "      <th>어학시험언어</th>\n",
       "    </tr>\n",
       "  </thead>\n",
       "  <tbody>\n",
       "    <tr>\n",
       "      <th>0</th>\n",
       "      <td>문화·예술·신문·방송</td>\n",
       "      <td>영상·음향·사진·카메라</td>\n",
       "      <td>취재기자, 편집 기사, 유아 사이트 기획, 시나리오 작성</td>\n",
       "      <td>0</td>\n",
       "      <td>NaN</td>\n",
       "      <td>서울,경기,서울</td>\n",
       "      <td>성균관대학교</td>\n",
       "      <td>국문</td>\n",
       "      <td>N</td>\n",
       "      <td>無</td>\n",
       "      <td>...</td>\n",
       "      <td>N</td>\n",
       "      <td>무</td>\n",
       "      <td>서울</td>\n",
       "      <td>경기</td>\n",
       "      <td>서울</td>\n",
       "      <td>-1</td>\n",
       "      <td>인문대</td>\n",
       "      <td>0_성균관대학교_국문_nan_無_70.0</td>\n",
       "      <td>세부직종: 동양 근무경력: 0to2</td>\n",
       "      <td>N</td>\n",
       "    </tr>\n",
       "    <tr>\n",
       "      <th>1</th>\n",
       "      <td>경영·기획·회계·사무</td>\n",
       "      <td>사무·총무·법무</td>\n",
       "      <td>NaN</td>\n",
       "      <td>35</td>\n",
       "      <td>정규직</td>\n",
       "      <td>부산,서울,일본</td>\n",
       "      <td>신라대학교</td>\n",
       "      <td>관광경영</td>\n",
       "      <td>JLPT</td>\n",
       "      <td>無</td>\n",
       "      <td>...</td>\n",
       "      <td>정규직</td>\n",
       "      <td>유</td>\n",
       "      <td>부산</td>\n",
       "      <td>서울</td>\n",
       "      <td>일본</td>\n",
       "      <td>1</td>\n",
       "      <td>경영경제대</td>\n",
       "      <td>35_신라대학교_관광경영_JLPT_無_nan</td>\n",
       "      <td>세부직종: 관광 근무경력: 2to4</td>\n",
       "      <td>JP</td>\n",
       "    </tr>\n",
       "  </tbody>\n",
       "</table>\n",
       "<p>2 rows × 27 columns</p>\n",
       "</div>"
      ],
      "text/plain": [
       "            직종          세부직종                             직무태그  근무경력 근무형태  \\\n",
       "0  문화·예술·신문·방송  영상·음향·사진·카메라  취재기자, 편집 기사, 유아 사이트 기획, 시나리오 작성     0  NaN   \n",
       "1  경영·기획·회계·사무      사무·총무·법무                              NaN    35  정규직   \n",
       "\n",
       "       근무지역    출신대학  대학전공  어학시험 자격증  ...  마지막근무형태  해외근무지역  근무지역_a  근무지역_b  \\\n",
       "0  서울,경기,서울  성균관대학교    국문     N   無  ...        N       무      서울      경기   \n",
       "1  부산,서울,일본   신라대학교  관광경영  JLPT   無  ...      정규직       유      부산      서울   \n",
       "\n",
       "   근무지역_c  근무희망형태    단과대                        ID       대학전공_and_경력세분화 어학시험언어  \n",
       "0      서울      -1    인문대    0_성균관대학교_국문_nan_無_70.0  세부직종: 동양 근무경력: 0to2      N  \n",
       "1      일본       1  경영경제대  35_신라대학교_관광경영_JLPT_無_nan  세부직종: 관광 근무경력: 2to4     JP  \n",
       "\n",
       "[2 rows x 27 columns]"
      ]
     },
     "execution_count": 35,
     "metadata": {},
     "output_type": "execute_result"
    }
   ],
   "source": [
    "EN = ['TOEIC', 'TOEFL', 'OPIc', 'TEPS', 'IELTS', 'TOEIC Speaking', 'TOEFL-CBT', 'G-TELP', 'TOEFL-IBT', 'TOEFL-PBT', 'SEPT', 'G-ETAT', 'GRE', 'G-TELP(GLT)', 'TOEIC S&W', 'OPI']\n",
    "JP = ['JLPT', 'JPT', 'JTRA'] \n",
    "CH = ['新HSK', 'HSK']\n",
    "ETC = ['기타', '기타시험']\n",
    "FR = ['DALF', 'DELF']\n",
    "for i,j in enumerate(X_train['어학시험']):\n",
    "    if j in EN:\n",
    "        X_train['어학시험언어'][i] = 'EN'\n",
    "    elif j in JP:\n",
    "        X_train['어학시험언어'][i] = 'JP'\n",
    "    elif j in CH:\n",
    "        X_train['어학시험언어'][i] = 'CH'\n",
    "    elif j in ETC:\n",
    "        X_train['어학시험언어'][i] = 'ETC'\n",
    "    elif j in FR:\n",
    "        X_train['어학시험언어'][i] = 'FR'\n",
    "        \n",
    "X_train.head(2)"
   ]
  },
  {
   "cell_type": "code",
   "execution_count": 36,
   "id": "f357a8d7",
   "metadata": {},
   "outputs": [],
   "source": [
    "X_test['어학시험언어'] = 'N'"
   ]
  },
  {
   "cell_type": "code",
   "execution_count": 37,
   "id": "8f9042f7",
   "metadata": {},
   "outputs": [
    {
     "data": {
      "text/html": [
       "<div>\n",
       "<style scoped>\n",
       "    .dataframe tbody tr th:only-of-type {\n",
       "        vertical-align: middle;\n",
       "    }\n",
       "\n",
       "    .dataframe tbody tr th {\n",
       "        vertical-align: top;\n",
       "    }\n",
       "\n",
       "    .dataframe thead th {\n",
       "        text-align: right;\n",
       "    }\n",
       "</style>\n",
       "<table border=\"1\" class=\"dataframe\">\n",
       "  <thead>\n",
       "    <tr style=\"text-align: right;\">\n",
       "      <th></th>\n",
       "      <th>직종</th>\n",
       "      <th>세부직종</th>\n",
       "      <th>직무태그</th>\n",
       "      <th>근무경력</th>\n",
       "      <th>근무형태</th>\n",
       "      <th>근무지역</th>\n",
       "      <th>출신대학</th>\n",
       "      <th>대학전공</th>\n",
       "      <th>어학시험</th>\n",
       "      <th>자격증</th>\n",
       "      <th>...</th>\n",
       "      <th>마지막근무형태</th>\n",
       "      <th>해외근무지역</th>\n",
       "      <th>근무지역_a</th>\n",
       "      <th>근무지역_b</th>\n",
       "      <th>근무지역_c</th>\n",
       "      <th>근무희망형태</th>\n",
       "      <th>단과대</th>\n",
       "      <th>ID</th>\n",
       "      <th>대학전공_and_경력세분화</th>\n",
       "      <th>어학시험언어</th>\n",
       "    </tr>\n",
       "  </thead>\n",
       "  <tbody>\n",
       "    <tr>\n",
       "      <th>0</th>\n",
       "      <td>전문·교육·자격</td>\n",
       "      <td>외국어·번역·통역</td>\n",
       "      <td>중국어,영어,강사,사무,micro office,호텔서비스</td>\n",
       "      <td>0</td>\n",
       "      <td>NaN</td>\n",
       "      <td>서울,중국,캐나다</td>\n",
       "      <td>이화여자대학교</td>\n",
       "      <td>증어중문</td>\n",
       "      <td>TOEFL</td>\n",
       "      <td>無</td>\n",
       "      <td>...</td>\n",
       "      <td>N</td>\n",
       "      <td>유</td>\n",
       "      <td>서울</td>\n",
       "      <td>중국</td>\n",
       "      <td>캐나다</td>\n",
       "      <td>-1</td>\n",
       "      <td>인문대</td>\n",
       "      <td>0_이화여자대학교_증어중문_TOEFL_無_80.0</td>\n",
       "      <td>세부직종: 동양 근무경력: 0to2</td>\n",
       "      <td>EN</td>\n",
       "    </tr>\n",
       "    <tr>\n",
       "      <th>1</th>\n",
       "      <td>영업·판매·TM</td>\n",
       "      <td>해외영업</td>\n",
       "      <td>해외영업</td>\n",
       "      <td>0</td>\n",
       "      <td>NaN</td>\n",
       "      <td>서울,,</td>\n",
       "      <td>중앙대학교</td>\n",
       "      <td>경영학과</td>\n",
       "      <td></td>\n",
       "      <td>有</td>\n",
       "      <td>...</td>\n",
       "      <td>N</td>\n",
       "      <td>무</td>\n",
       "      <td>서울</td>\n",
       "      <td></td>\n",
       "      <td></td>\n",
       "      <td>-1</td>\n",
       "      <td>경영경제대</td>\n",
       "      <td>0_중앙대학교_경영학과_ _有_80.0</td>\n",
       "      <td>세부직종: 경영 근무경력: 0to2</td>\n",
       "      <td>N</td>\n",
       "    </tr>\n",
       "  </tbody>\n",
       "</table>\n",
       "<p>2 rows × 27 columns</p>\n",
       "</div>"
      ],
      "text/plain": [
       "         직종       세부직종                             직무태그  근무경력 근무형태       근무지역  \\\n",
       "0  전문·교육·자격  외국어·번역·통역  중국어,영어,강사,사무,micro office,호텔서비스     0  NaN  서울,중국,캐나다   \n",
       "1  영업·판매·TM       해외영업                             해외영업     0  NaN       서울,,   \n",
       "\n",
       "      출신대학  대학전공   어학시험 자격증  ...  마지막근무형태  해외근무지역  근무지역_a  근무지역_b  근무지역_c  \\\n",
       "0  이화여자대학교  증어중문  TOEFL   無  ...        N       유      서울      중국     캐나다   \n",
       "1    중앙대학교  경영학과          有  ...        N       무      서울                   \n",
       "\n",
       "   근무희망형태    단과대                           ID       대학전공_and_경력세분화 어학시험언어  \n",
       "0      -1    인문대  0_이화여자대학교_증어중문_TOEFL_無_80.0  세부직종: 동양 근무경력: 0to2     EN  \n",
       "1      -1  경영경제대        0_중앙대학교_경영학과_ _有_80.0  세부직종: 경영 근무경력: 0to2      N  \n",
       "\n",
       "[2 rows x 27 columns]"
      ]
     },
     "execution_count": 37,
     "metadata": {},
     "output_type": "execute_result"
    }
   ],
   "source": [
    "EN = ['TOEIC', 'TOEFL', 'OPIc', 'TEPS', 'IELTS', 'TOEIC Speaking', 'TOEFL-CBT', 'G-TELP', 'TOEFL-IBT', 'TOEFL-PBT', 'SEPT', 'G-ETAT', 'GRE', 'G-TELP(GLT)', 'TOEIC S&W', 'OPI']\n",
    "JP = ['JLPT', 'JPT', 'JTRA'] \n",
    "CH = ['新HSK', 'HSK']\n",
    "ETC = ['기타', '기타시험']\n",
    "FR = ['DALF', 'DELF']\n",
    "X_test['어학시험언어']='N'\n",
    "for i,j in enumerate(X_test['어학시험']):\n",
    "    if j in EN:\n",
    "        X_test['어학시험언어'][i] = 'EN'\n",
    "    elif j in JP:\n",
    "        X_test['어학시험언어'][i] = 'JP'\n",
    "    elif j in CH:\n",
    "        X_test['어학시험언어'][i] = 'CH'\n",
    "    elif j in ETC:\n",
    "        X_test['어학시험언어'][i] = 'ETC'\n",
    "    elif j in FR:\n",
    "        X_test['어학시험언어'][i] = 'FR'\n",
    "        \n",
    "X_test.head(2)"
   ]
  },
  {
   "cell_type": "code",
   "execution_count": 38,
   "id": "bce2440c",
   "metadata": {},
   "outputs": [
    {
     "data": {
      "text/html": [
       "<div>\n",
       "<style scoped>\n",
       "    .dataframe tbody tr th:only-of-type {\n",
       "        vertical-align: middle;\n",
       "    }\n",
       "\n",
       "    .dataframe tbody tr th {\n",
       "        vertical-align: top;\n",
       "    }\n",
       "\n",
       "    .dataframe thead th {\n",
       "        text-align: right;\n",
       "    }\n",
       "</style>\n",
       "<table border=\"1\" class=\"dataframe\">\n",
       "  <thead>\n",
       "    <tr style=\"text-align: right;\">\n",
       "      <th></th>\n",
       "      <th>직종</th>\n",
       "      <th>세부직종</th>\n",
       "      <th>직무태그</th>\n",
       "      <th>근무경력</th>\n",
       "      <th>근무형태</th>\n",
       "      <th>근무지역</th>\n",
       "      <th>출신대학</th>\n",
       "      <th>대학전공</th>\n",
       "      <th>어학시험</th>\n",
       "      <th>자격증</th>\n",
       "      <th>...</th>\n",
       "      <th>해외근무지역</th>\n",
       "      <th>근무지역_a</th>\n",
       "      <th>근무지역_b</th>\n",
       "      <th>근무지역_c</th>\n",
       "      <th>근무희망형태</th>\n",
       "      <th>단과대</th>\n",
       "      <th>ID</th>\n",
       "      <th>대학전공_and_경력세분화</th>\n",
       "      <th>어학시험언어</th>\n",
       "      <th>상위어학시험</th>\n",
       "    </tr>\n",
       "  </thead>\n",
       "  <tbody>\n",
       "    <tr>\n",
       "      <th>0</th>\n",
       "      <td>문화·예술·신문·방송</td>\n",
       "      <td>영상·음향·사진·카메라</td>\n",
       "      <td>취재기자, 편집 기사, 유아 사이트 기획, 시나리오 작성</td>\n",
       "      <td>0</td>\n",
       "      <td>NaN</td>\n",
       "      <td>서울,경기,서울</td>\n",
       "      <td>성균관대학교</td>\n",
       "      <td>국문</td>\n",
       "      <td>N</td>\n",
       "      <td>無</td>\n",
       "      <td>...</td>\n",
       "      <td>무</td>\n",
       "      <td>서울</td>\n",
       "      <td>경기</td>\n",
       "      <td>서울</td>\n",
       "      <td>-1</td>\n",
       "      <td>인문대</td>\n",
       "      <td>0_성균관대학교_국문_nan_無_70.0</td>\n",
       "      <td>세부직종: 동양 근무경력: 0to2</td>\n",
       "      <td>N</td>\n",
       "      <td>N</td>\n",
       "    </tr>\n",
       "    <tr>\n",
       "      <th>1</th>\n",
       "      <td>경영·기획·회계·사무</td>\n",
       "      <td>사무·총무·법무</td>\n",
       "      <td>NaN</td>\n",
       "      <td>35</td>\n",
       "      <td>정규직</td>\n",
       "      <td>부산,서울,일본</td>\n",
       "      <td>신라대학교</td>\n",
       "      <td>관광경영</td>\n",
       "      <td>JLPT</td>\n",
       "      <td>無</td>\n",
       "      <td>...</td>\n",
       "      <td>유</td>\n",
       "      <td>부산</td>\n",
       "      <td>서울</td>\n",
       "      <td>일본</td>\n",
       "      <td>1</td>\n",
       "      <td>경영경제대</td>\n",
       "      <td>35_신라대학교_관광경영_JLPT_無_nan</td>\n",
       "      <td>세부직종: 관광 근무경력: 2to4</td>\n",
       "      <td>JP</td>\n",
       "      <td>JLPT</td>\n",
       "    </tr>\n",
       "  </tbody>\n",
       "</table>\n",
       "<p>2 rows × 28 columns</p>\n",
       "</div>"
      ],
      "text/plain": [
       "            직종          세부직종                             직무태그  근무경력 근무형태  \\\n",
       "0  문화·예술·신문·방송  영상·음향·사진·카메라  취재기자, 편집 기사, 유아 사이트 기획, 시나리오 작성     0  NaN   \n",
       "1  경영·기획·회계·사무      사무·총무·법무                              NaN    35  정규직   \n",
       "\n",
       "       근무지역    출신대학  대학전공  어학시험 자격증  ...  해외근무지역  근무지역_a  근무지역_b  근무지역_c  \\\n",
       "0  서울,경기,서울  성균관대학교    국문     N   無  ...       무      서울      경기      서울   \n",
       "1  부산,서울,일본   신라대학교  관광경영  JLPT   無  ...       유      부산      서울      일본   \n",
       "\n",
       "   근무희망형태    단과대                        ID       대학전공_and_경력세분화 어학시험언어 상위어학시험  \n",
       "0      -1    인문대    0_성균관대학교_국문_nan_無_70.0  세부직종: 동양 근무경력: 0to2      N      N  \n",
       "1       1  경영경제대  35_신라대학교_관광경영_JLPT_無_nan  세부직종: 관광 근무경력: 2to4     JP   JLPT  \n",
       "\n",
       "[2 rows x 28 columns]"
      ]
     },
     "execution_count": 38,
     "metadata": {},
     "output_type": "execute_result"
    }
   ],
   "source": [
    "X_train['어학시험'].fillna('N',inplace = True)\n",
    "X_train.loc[X_train['어학시험'] == ' ','어학시험'] = 'BLANK'\n",
    "X_train['상위어학시험'] = '0'\n",
    "for i in range(16570):\n",
    "    X_train['상위어학시험'][i] = X_train['어학시험'].loc[i][:5]\n",
    "X_train.loc[X_train['상위어학시험'] == '新HSK','상위어학시험'] = 'HSK'\n",
    "\n",
    "list(X_train['상위어학시험'].value_counts().index[12:])\n",
    "\n",
    "for i in list(X_train['상위어학시험'].value_counts().index[12:]):\n",
    "    X_train.loc[X_train['상위어학시험'] == i,'상위어학시험'] = '기타'\n",
    "\n",
    "X_test['어학시험'].fillna('N',inplace = True)\n",
    "X_test.loc[X_test['어학시험'] == ' ','어학시험'] = 'BLANK'\n",
    "X_test['상위어학시험'] = '0'\n",
    "for i in range(11048):\n",
    "    X_test['상위어학시험'][i] = X_test['어학시험'].loc[i][:5]\n",
    "X_test.loc[X_train['상위어학시험'] == '新HSK','상위어학시험'] = 'HSK'\n",
    "\n",
    "for i in list(X_test['상위어학시험'].value_counts().index[12:]):\n",
    "    X_test.loc[X_test['상위어학시험'] == i,'상위어학시험'] = '기타'\n",
    "X_train.head(2)"
   ]
  },
  {
   "cell_type": "markdown",
   "id": "f694d650",
   "metadata": {},
   "source": [
    "#### 근무지역 - 김종윤"
   ]
  },
  {
   "cell_type": "code",
   "execution_count": 39,
   "id": "ed46333e",
   "metadata": {},
   "outputs": [],
   "source": [
    "def region(x):\n",
    "    if x in ['서울']:\n",
    "        x = '수도권_서울'\n",
    "    elif x in ['경기']:\n",
    "        x = '수도권_경기'\n",
    "    elif x in ['인천']:\n",
    "        x = '수도권_인천'\n",
    "    elif x in ['강원']:\n",
    "        x = '강원'\n",
    "    elif x in ['경남','경북','대구','부산','울산']:\n",
    "        x = '영남'\n",
    "    elif x in ['광주','전남','전북']:\n",
    "        x = '호남'\n",
    "    elif x in ['충남','충북']:\n",
    "        x = '호서'\n",
    "    elif x in ['제주']:\n",
    "        x = '제주'\n",
    "    elif x in ['대만','러시아','말레이시아','방글라데시','싱가포르','인도','인도네시아','일본','중국','필리핀','홍콩']:\n",
    "        x = '해외_유라시아'\n",
    "    elif x in ['미국','캐나다']:\n",
    "        x = '해외_아메리카'\n",
    "    elif x in ['프랑스','해외']:\n",
    "        x = '해외_기타'\n",
    "    elif x == '':\n",
    "        x = ''\n",
    "    else: \n",
    "        x = '기타'\n",
    "    return x\n",
    "\n",
    "def new_region(x):\n",
    "    x = set(sorted(map(region,x.split(','))))\n",
    "    x.discard('')\n",
    "    return tuple(x)\n",
    "\n",
    "\n",
    "X_train['new_근무지역'] = X_train['근무지역'].apply(new_region)\n",
    "X_test['new_근무지역'] = X_test['근무지역'].apply(new_region)"
   ]
  },
  {
   "cell_type": "markdown",
   "id": "844a616f",
   "metadata": {},
   "source": [
    "#### 근무지역 경험횟수 "
   ]
  },
  {
   "cell_type": "code",
   "execution_count": 40,
   "id": "3f682098",
   "metadata": {},
   "outputs": [],
   "source": [
    "X_train['근무지역_경험횟수'] = X_train['new_근무지역'].apply(lambda x: len(x))\n",
    "X_test['근무지역_경험횟수'] = X_test['new_근무지역'].apply(lambda x: len(x))"
   ]
  },
  {
   "cell_type": "markdown",
   "id": "3ed5e09f",
   "metadata": {},
   "source": [
    "#### 근무형태 처리-이준영"
   ]
  },
  {
   "cell_type": "markdown",
   "id": "a4bfc457",
   "metadata": {},
   "source": [
    "data = pd.concat([X_train, X_test]).reset_index()"
   ]
  },
  {
   "cell_type": "markdown",
   "id": "942f6117",
   "metadata": {
    "collapsed": true
   },
   "source": [
    "# 근무 형태 처리\n",
    "null_list = data[data['근무경력']==0].index\n",
    "data['근무형태_2'] = data['근무형태']\n",
    "data['근무형태_2'][null_list] = data['근무형태'][null_list].fillna('경력없음')\n",
    "data['근무형태_2'] = data['근무형태'].fillna('missing')\n",
    "\n",
    "#\n",
    "data['근무형태_2'] = data['근무형태'].str.replace(',', ' ')\n",
    "data['근무형태_2'] = data['근무형태'].str.strip()\n",
    "\n",
    "#\n",
    "hyung_list = []\n",
    "for i in data['근무형태']:\n",
    "    if i[:3] == '정규직' and '해외취업' in i:\n",
    "        i = '정규직(해외o)'\n",
    "    elif i[:3] == '정규직' and '해외취업' not in i:\n",
    "        i = '정규직(해외x)'\n",
    "    hyung_list.append(i)    \n",
    "data['근무형태_2'] = hyung_list\n",
    "\n",
    "#\n",
    "hyun_list2 = []\n",
    "for i in data['근무형태']:\n",
    "    if i[:3] == '계약직':\n",
    "        i = '계약직'\n",
    "    elif i in ['인턴','파견직']:\n",
    "        i = '계약직'\n",
    "    elif i in ['해외취업','병역특례']:\n",
    "        i = '기타'    \n",
    "    hyun_list2.append(i)   \n",
    "data['근무형태_2'] = hyun_list2"
   ]
  },
  {
   "cell_type": "markdown",
   "id": "3805f629",
   "metadata": {},
   "source": [
    "### 유형별 피처 분리"
   ]
  },
  {
   "cell_type": "code",
   "execution_count": 41,
   "id": "4b02ad7a",
   "metadata": {
    "scrolled": true
   },
   "outputs": [
    {
     "data": {
      "text/plain": [
       "직종                 object\n",
       "세부직종               object\n",
       "직무태그               object\n",
       "근무경력                int64\n",
       "근무형태               object\n",
       "근무지역               object\n",
       "출신대학               object\n",
       "대학전공               object\n",
       "어학시험               object\n",
       "자격증                object\n",
       "대학성적              float64\n",
       "NaN_count           int64\n",
       "NotNull_count       int64\n",
       "근무경력_y              int64\n",
       "근무경력_m              int64\n",
       "근무경력^2              int64\n",
       "근무경력_세분화           object\n",
       "마지막근무형태            object\n",
       "해외근무지역             object\n",
       "근무지역_a             object\n",
       "근무지역_b             object\n",
       "근무지역_c             object\n",
       "근무희망형태             object\n",
       "단과대                object\n",
       "ID                 object\n",
       "대학전공_and_경력세분화     object\n",
       "어학시험언어             object\n",
       "상위어학시험             object\n",
       "new_근무지역           object\n",
       "근무지역_경험횟수           int64\n",
       "dtype: object"
      ]
     },
     "execution_count": 41,
     "metadata": {},
     "output_type": "execute_result"
    }
   ],
   "source": [
    "X_train.dtypes"
   ]
  },
  {
   "cell_type": "code",
   "execution_count": 42,
   "id": "28c054d2",
   "metadata": {},
   "outputs": [],
   "source": [
    "# X_train.to_csv('data/X_train_yh.csv', encoding='cp949', index=False)\n",
    "# X_test.to_csv('data/X_test_yh.csv', encoding='cp949', index=False)\n",
    "# y_train.to_csv('data/y_train_yh.csv', encoding='cp949', index=False)"
   ]
  },
  {
   "cell_type": "markdown",
   "id": "acd2535b",
   "metadata": {},
   "source": [
    "#### 최종 데이터 불러오기"
   ]
  },
  {
   "cell_type": "code",
   "execution_count": 43,
   "id": "6fc4f976",
   "metadata": {},
   "outputs": [],
   "source": [
    "X_train = pd.read_csv('data/X_train_yh.csv', encoding='cp949')\n",
    "y_train = pd.read_csv('data/y_train_yh.csv', encoding='cp949')\n",
    "\n",
    "X_test = pd.read_csv('data/X_test_yh.csv', encoding='cp949')"
   ]
  },
  {
   "cell_type": "code",
   "execution_count": 44,
   "id": "d03fc727",
   "metadata": {},
   "outputs": [],
   "source": [
    "# 인서울 여부\n",
    "in_seoul_lst = ['성균관대학교', '중앙대학교', '세종대학교', '연세대학교', '이화여자대학교']\n",
    "\n",
    "X_train['인서울여부'] = X_train['출신대학'].map(lambda x: '0' if x in in_seoul_lst else '1')\n",
    "\n",
    "X_test['인서울여부'] = X_test['출신대학'].map(lambda x: '0' if x in in_seoul_lst else '1')"
   ]
  },
  {
   "cell_type": "code",
   "execution_count": 45,
   "id": "8a4390ef",
   "metadata": {},
   "outputs": [],
   "source": [
    "# 근무지역_소분류\n",
    "X_train['근무지역_소분류'] = X_train['근무지역'].copy()\n",
    "X_test['근무지역_소분류'] = X_test['근무지역'].copy()"
   ]
  },
  {
   "cell_type": "code",
   "execution_count": 46,
   "id": "9a464bd9",
   "metadata": {},
   "outputs": [],
   "source": [
    "X_train['근무지역_소분류'][X_train['근무지역_소분류'].str.contains\n",
    "                ('해외|미국|중국|러시아|일본|캐나다|필리핀|인도|싱가포르|대만|말레이시아|프랑스|홍콩')] = '해외'\n",
    "\n",
    "X_train['근무지역_소분류'][X_train['근무지역_소분류'] == '전국,,'] = '전국'\n",
    "X_train['근무지역_소분류'][X_train['근무지역_소분류'] == '전국,전국,'] = '전국'\n",
    "X_train['근무지역_소분류'][X_train['근무지역_소분류'] == '전국,전국,전국'] = '전국'\n",
    "\n",
    "X_train['근무지역_소분류'][X_train['근무지역_소분류'].str.split(',').str[0] == '서울'] = '서울'\n",
    "X_train['근무지역_소분류'][X_train['근무지역_소분류'].str.split(',').str[0] == '경기'] = '경기'\n",
    "X_train['근무지역_소분류'][X_train['근무지역_소분류'].str.split(',').str[0] == '인천'] = '인천'\n",
    "X_train['근무지역_소분류'][X_train['근무지역_소분류'].str.split(',').str[0] == '부산'] = '부산'\n",
    "X_train['근무지역_소분류'][X_train['근무지역_소분류'].str.split(',').str[0] == '대전'] = '대전'\n",
    "X_train['근무지역_소분류'][X_train['근무지역_소분류'].str.split(',').str[0] == '광주'] = '광주'\n",
    "X_train['근무지역_소분류'][X_train['근무지역_소분류'].str.split(',').str[0] == '충남'] = '충남'\n",
    "X_train['근무지역_소분류'][X_train['근무지역_소분류'].str.split(',').str[0] == '경남'] = '경남'\n",
    "X_train['근무지역_소분류'][X_train['근무지역_소분류'].str.split(',').str[0] == '전북'] = '전북'\n",
    "X_train['근무지역_소분류'][X_train['근무지역_소분류'].str.split(',').str[0] == '충북'] = '충북'\n",
    "X_train['근무지역_소분류'][X_train['근무지역_소분류'].str.split(',').str[0] == '제주'] = '제주'\n",
    "X_train['근무지역_소분류'][X_train['근무지역_소분류'].str.split(',').str[0] == '경북'] = '경북'\n",
    "X_train['근무지역_소분류'][X_train['근무지역_소분류'].str.split(',').str[0] == '강원'] = '강원'\n",
    "X_train['근무지역_소분류'][X_train['근무지역_소분류'].str.split(',').str[0] == '울산'] = '울산'\n",
    "X_train['근무지역_소분류'][X_train['근무지역_소분류'].str.split(',').str[0] == '전남'] = '전남'\n",
    "X_train['근무지역_소분류'][X_train['근무지역_소분류'].str.split(',').str[0] == '대구'] = '대구'\n",
    "X_train['근무지역_소분류'][X_train['근무지역_소분류'].str.split(',').str[0] == '전북'] = '전북'\n",
    "\n",
    "X_train['근무지역_소분류'][X_train['근무지역_소분류'].str.contains\n",
    "                ('기타')] = '기타'"
   ]
  },
  {
   "cell_type": "code",
   "execution_count": 47,
   "id": "27031996",
   "metadata": {},
   "outputs": [],
   "source": [
    "X_test['근무지역_소분류'][X_test['근무지역_소분류'].str.contains\n",
    "                ('해외|미국|중국|러시아|일본|캐나다|필리핀|인도|싱가포르|대만|말레이시아|프랑스|홍콩')] = '해외'\n",
    "\n",
    "X_test['근무지역_소분류'][X_test['근무지역_소분류'] == '전국,,'] = '전국'\n",
    "X_test['근무지역_소분류'][X_test['근무지역_소분류'] == '전국,전국,'] = '전국'\n",
    "X_test['근무지역_소분류'][X_test['근무지역_소분류'] == '전국,전국,전국'] = '전국'\n",
    "\n",
    "X_test['근무지역_소분류'][X_test['근무지역_소분류'].str.split(',').str[0] == '서울'] = '서울'\n",
    "X_test['근무지역_소분류'][X_test['근무지역_소분류'].str.split(',').str[0] == '경기'] = '경기'\n",
    "X_test['근무지역_소분류'][X_test['근무지역_소분류'].str.split(',').str[0] == '인천'] = '인천'\n",
    "X_test['근무지역_소분류'][X_test['근무지역_소분류'].str.split(',').str[0] == '부산'] = '부산'\n",
    "X_test['근무지역_소분류'][X_test['근무지역_소분류'].str.split(',').str[0] == '대전'] = '대전'\n",
    "X_test['근무지역_소분류'][X_test['근무지역_소분류'].str.split(',').str[0] == '광주'] = '광주'\n",
    "X_test['근무지역_소분류'][X_test['근무지역_소분류'].str.split(',').str[0] == '충남'] = '충남'\n",
    "X_test['근무지역_소분류'][X_test['근무지역_소분류'].str.split(',').str[0] == '경남'] = '경남'\n",
    "X_test['근무지역_소분류'][X_test['근무지역_소분류'].str.split(',').str[0] == '전북'] = '전북'\n",
    "X_test['근무지역_소분류'][X_test['근무지역_소분류'].str.split(',').str[0] == '충북'] = '충북'\n",
    "X_test['근무지역_소분류'][X_test['근무지역_소분류'].str.split(',').str[0] == '제주'] = '제주'\n",
    "X_test['근무지역_소분류'][X_test['근무지역_소분류'].str.split(',').str[0] == '경북'] = '경북'\n",
    "X_test['근무지역_소분류'][X_test['근무지역_소분류'].str.split(',').str[0] == '강원'] = '강원'\n",
    "X_test['근무지역_소분류'][X_test['근무지역_소분류'].str.split(',').str[0] == '울산'] = '울산'\n",
    "X_test['근무지역_소분류'][X_test['근무지역_소분류'].str.split(',').str[0] == '전남'] = '전남'\n",
    "X_test['근무지역_소분류'][X_test['근무지역_소분류'].str.split(',').str[0] == '대구'] = '대구'\n",
    "X_test['근무지역_소분류'][X_test['근무지역_소분류'].str.split(',').str[0] == '전북'] = '전북'\n",
    "\n",
    "X_test['근무지역_소분류'][X_test['근무지역_소분류'].str.contains\n",
    "                ('기타')] = '기타'"
   ]
  },
  {
   "cell_type": "code",
   "execution_count": 48,
   "id": "ad3d6eb7",
   "metadata": {},
   "outputs": [],
   "source": [
    "# 8.1 출신대학 + 근무경력 조합\n",
    "\n",
    "# sum\n",
    "\n",
    "group_object1 = X_train.groupby(by=['출신대학'])['근무경력'].agg('sum').reset_index()\n",
    "group_object2 = X_test.groupby(by=['출신대학'])['근무경력'].agg('sum').reset_index()\n",
    "\n",
    "group_object1 = group_object1.rename(columns = {'근무경력':'대학_경력_sum'})\n",
    "group_object2 = group_object2.rename(columns = {'근무경력':'대학_경력_sum'})\n",
    "\n",
    "X_train = pd.merge(X_train, group_object1, on = '출신대학', how='left')\n",
    "X_test = pd.merge(X_test, group_object2, on = '출신대학', how='left')"
   ]
  },
  {
   "cell_type": "code",
   "execution_count": 49,
   "id": "6f96765c",
   "metadata": {},
   "outputs": [],
   "source": [
    "# 8.1 출신대학 + 근무경력 조합\n",
    "\n",
    "# mean\n",
    "\n",
    "group_object3 = X_train.groupby(by=['출신대학'])['근무경력'].agg('mean').reset_index()\n",
    "group_object4 = X_test.groupby(by=['출신대학'])['근무경력'].agg('mean').reset_index()\n",
    "\n",
    "group_object3 = group_object3.rename(columns = {'근무경력':'대학_경력_mean'})\n",
    "group_object4 = group_object4.rename(columns = {'근무경력':'대학_경력_mean'})\n",
    "\n",
    "X_train = pd.merge(X_train, group_object3, on = '출신대학', how='left')\n",
    "X_test = pd.merge(X_test, group_object4, on = '출신대학', how='left')"
   ]
  },
  {
   "cell_type": "code",
   "execution_count": 50,
   "id": "fabcc45d",
   "metadata": {},
   "outputs": [],
   "source": [
    "# variance\n",
    "\n",
    "group_object5 = X_train.groupby(by=['출신대학'])['근무경력'].agg('var').reset_index()\n",
    "group_object6 = X_test.groupby(by=['출신대학'])['근무경력'].agg('var').reset_index()\n",
    "\n",
    "group_object5 = group_object5.rename(columns = {'근무경력':'대학_경력_variance'})\n",
    "group_object6 = group_object6.rename(columns = {'근무경력':'대학_경력_variance'})\n",
    "\n",
    "X_train = pd.merge(X_train, group_object5, on = '출신대학', how='left')\n",
    "X_test = pd.merge(X_test, group_object6, on = '출신대학', how='left')"
   ]
  },
  {
   "cell_type": "code",
   "execution_count": 51,
   "id": "c79e8d6c",
   "metadata": {},
   "outputs": [],
   "source": [
    "# standard deviation\n",
    "\n",
    "group_object7 = X_train.groupby(by=['출신대학'])['근무경력'].agg('std').reset_index()\n",
    "group_object8 = X_test.groupby(by=['출신대학'])['근무경력'].agg('std').reset_index()\n",
    "\n",
    "group_object7 = group_object7.rename(columns = {'근무경력':'대학_경력_standard deviation'})\n",
    "group_object8 = group_object8.rename(columns = {'근무경력':'대학_경력_standard deviation'})\n",
    "\n",
    "X_train = pd.merge(X_train, group_object7, on = '출신대학', how='left')\n",
    "X_test = pd.merge(X_test, group_object8, on = '출신대학', how='left')"
   ]
  },
  {
   "cell_type": "code",
   "execution_count": 52,
   "id": "0a2c16d3",
   "metadata": {},
   "outputs": [],
   "source": [
    "# 변수형 피처 추가\n",
    "X_train['근무경력_x_대학성적'] = X_train['근무경력'] * X_train['대학성적']\n",
    "X_test['근무경력_x_대학성적'] = X_test['근무경력'] * X_test['대학성적']"
   ]
  },
  {
   "cell_type": "code",
   "execution_count": 53,
   "id": "9a7a2e38",
   "metadata": {},
   "outputs": [],
   "source": [
    "# 인서울대학 피처 추가\n",
    "in_seoul = ['성균관대학교', '중앙대학교', '연세대학교', '한성대학교', '성신여자대학교', '동덕여자대학교', '이화여자대학교',\n",
    "            '서울여자대학교', '서울과학기술대학교', '세종대학교']\n",
    "\n",
    "not_in_seoul = ['경기대학교', '동아대학교', '수원대학교', '동의대학교', '전주대학교', '상지대학교', '한밭대학교', '한림대학교', '인천대학교', '선문대학교', '군산대학교', '세명대학교',\n",
    "                '광주대학교', '동서대학교', '호남대학교', '서원대학교', '용인대학교', '호원대학교', '목포대학교', '신라대학교', '성결대학교', '제주대학교', '남부대학교',\n",
    "                '한국산업기술대학교', '협성대학교', '경주대학교', '한세대학교', '성공회대학교', '서울신학대학교', '한일장신대학교', '송원대학교', '부산디지털대학교']"
   ]
  },
  {
   "cell_type": "code",
   "execution_count": 54,
   "id": "3c6a505c",
   "metadata": {},
   "outputs": [],
   "source": [
    "# X_train['서울4년제대학'] = X_train.출신대학.copy()\n",
    "# X_test['서울4년제대학'] = X_test.출신대학.copy()"
   ]
  },
  {
   "cell_type": "code",
   "execution_count": 55,
   "id": "f5423351",
   "metadata": {},
   "outputs": [],
   "source": [
    "# X_train['서울4년제대학'] = X_train['서울4년제대학'].replace(in_seoul, 'yes')\n",
    "# X_train['서울4년제대학'] = X_train['서울4년제대학'].replace(not_in_seoul, 'no')\n",
    "\n",
    "# X_test['서울4년제대학'] = X_test['서울4년제대학'].replace(in_seoul, 'yes')\n",
    "# X_test['서울4년제대학'] = X_test['서울4년제대학'].replace(not_in_seoul, \"no\")"
   ]
  },
  {
   "cell_type": "code",
   "execution_count": null,
   "id": "3839fffc",
   "metadata": {},
   "outputs": [],
   "source": []
  },
  {
   "cell_type": "code",
   "execution_count": null,
   "id": "7e7047e3",
   "metadata": {},
   "outputs": [],
   "source": []
  },
  {
   "cell_type": "code",
   "execution_count": null,
   "id": "7091c664",
   "metadata": {},
   "outputs": [],
   "source": []
  },
  {
   "cell_type": "code",
   "execution_count": 56,
   "id": "529fd069",
   "metadata": {},
   "outputs": [
    {
     "name": "stdout",
     "output_type": "stream",
     "text": [
      "<class 'pandas.core.frame.DataFrame'>\n",
      "Int64Index: 16570 entries, 0 to 16569\n",
      "Data columns (total 37 columns):\n",
      " #   Column                    Non-Null Count  Dtype  \n",
      "---  ------                    --------------  -----  \n",
      " 0   직종                        16570 non-null  object \n",
      " 1   세부직종                      16570 non-null  object \n",
      " 2   직무태그                      14055 non-null  object \n",
      " 3   근무경력                      16570 non-null  int64  \n",
      " 4   근무형태                      6661 non-null   object \n",
      " 5   근무지역                      16570 non-null  object \n",
      " 6   출신대학                      16570 non-null  object \n",
      " 7   대학전공                      16570 non-null  object \n",
      " 8   어학시험                      16570 non-null  object \n",
      " 9   자격증                       16570 non-null  object \n",
      " 10  대학성적                      14600 non-null  float64\n",
      " 11  NaN_count                 16570 non-null  int64  \n",
      " 12  NotNull_count             16570 non-null  int64  \n",
      " 13  근무경력_y                    16570 non-null  int64  \n",
      " 14  근무경력_m                    16570 non-null  int64  \n",
      " 15  근무경력^2                    16570 non-null  int64  \n",
      " 16  근무경력_세분화                  16570 non-null  object \n",
      " 17  마지막근무형태                   16570 non-null  object \n",
      " 18  해외근무지역                    16570 non-null  object \n",
      " 19  근무지역_a                    16570 non-null  object \n",
      " 20  근무지역_b                    14297 non-null  object \n",
      " 21  근무지역_c                    10738 non-null  object \n",
      " 22  근무희망형태                    16570 non-null  int64  \n",
      " 23  단과대                       16570 non-null  object \n",
      " 24  ID                        16570 non-null  object \n",
      " 25  대학전공_and_경력세분화            16570 non-null  object \n",
      " 26  어학시험언어                    16570 non-null  object \n",
      " 27  상위어학시험                    16570 non-null  object \n",
      " 28  new_근무지역                  16570 non-null  object \n",
      " 29  근무지역_경험횟수                 16570 non-null  int64  \n",
      " 30  인서울여부                     16570 non-null  object \n",
      " 31  근무지역_소분류                  16570 non-null  object \n",
      " 32  대학_경력_sum                 16570 non-null  int64  \n",
      " 33  대학_경력_mean                16570 non-null  float64\n",
      " 34  대학_경력_variance            16568 non-null  float64\n",
      " 35  대학_경력_standard deviation  16568 non-null  float64\n",
      " 36  근무경력_x_대학성적               14600 non-null  float64\n",
      "dtypes: float64(5), int64(9), object(23)\n",
      "memory usage: 4.8+ MB\n"
     ]
    }
   ],
   "source": [
    "X_train.info()"
   ]
  },
  {
   "cell_type": "code",
   "execution_count": 57,
   "id": "652bad02",
   "metadata": {},
   "outputs": [],
   "source": [
    "# numeric_features = ['근무경력','대학성적', '근무경력_x_대학성적', '대학_경력_standard deviation', '대학_경력_variance', '대학_경력_mean','대학_경력_sum']\n",
    "# categorical_features = ['직종','세부직종','출신대학','대학전공','어학시험','자격증', '인서울여부', '근무형태_계정(해)','근무지역_소분류','해외근무지역', 'ID']\n",
    "# binary_features = ['직무태그','근무지역','근무형태'] "
   ]
  },
  {
   "cell_type": "code",
   "execution_count": 58,
   "id": "83a8d6d0",
   "metadata": {},
   "outputs": [],
   "source": [
    "numeric_features = ['근무경력','대학성적','근무경력^2', '근무경력_x_대학성적','대학_경력_standard deviation', '대학_경력_variance', '대학_경력_mean','대학_경력_sum']\n",
    "categorical_features = ['직종','세부직종','출신대학','대학전공','어학시험','자격증','근무경력_세분화','마지막근무형태','ID',\n",
    "                       '근무지역_a','근무지역_b','근무지역_c','해외근무지역','단과대','대학전공_and_경력세분화',\n",
    "                       '근무경력_y', '근무경력_m','근무희망형태', '근무지역_소분류'] # '인서울여부'\n",
    "binary_features = ['직무태그','근무지역','근무형태']"
   ]
  },
  {
   "cell_type": "code",
   "execution_count": 59,
   "id": "49998727",
   "metadata": {},
   "outputs": [],
   "source": [
    "X_train = X_train[numeric_features+categorical_features+binary_features]  # 순서 주의!!!\n",
    "X_test = X_test[numeric_features+categorical_features+binary_features]\n",
    "\n",
    "# CatBoost의 cat_features 파라미터에 지정할 범주형 피처 위치\n",
    "cat_index = [list(X_train.columns).index(c) for c in categorical_features]"
   ]
  },
  {
   "cell_type": "markdown",
   "id": "0c88fca8",
   "metadata": {},
   "source": [
    "### 전처리 파이프라인 구축"
   ]
  },
  {
   "cell_type": "code",
   "execution_count": 60,
   "id": "347424ff",
   "metadata": {},
   "outputs": [
    {
     "data": {
      "text/html": [
       "<style>#sk-container-id-1 {color: black;background-color: white;}#sk-container-id-1 pre{padding: 0;}#sk-container-id-1 div.sk-toggleable {background-color: white;}#sk-container-id-1 label.sk-toggleable__label {cursor: pointer;display: block;width: 100%;margin-bottom: 0;padding: 0.3em;box-sizing: border-box;text-align: center;}#sk-container-id-1 label.sk-toggleable__label-arrow:before {content: \"▸\";float: left;margin-right: 0.25em;color: #696969;}#sk-container-id-1 label.sk-toggleable__label-arrow:hover:before {color: black;}#sk-container-id-1 div.sk-estimator:hover label.sk-toggleable__label-arrow:before {color: black;}#sk-container-id-1 div.sk-toggleable__content {max-height: 0;max-width: 0;overflow: hidden;text-align: left;background-color: #f0f8ff;}#sk-container-id-1 div.sk-toggleable__content pre {margin: 0.2em;color: black;border-radius: 0.25em;background-color: #f0f8ff;}#sk-container-id-1 input.sk-toggleable__control:checked~div.sk-toggleable__content {max-height: 200px;max-width: 100%;overflow: auto;}#sk-container-id-1 input.sk-toggleable__control:checked~label.sk-toggleable__label-arrow:before {content: \"▾\";}#sk-container-id-1 div.sk-estimator input.sk-toggleable__control:checked~label.sk-toggleable__label {background-color: #d4ebff;}#sk-container-id-1 div.sk-label input.sk-toggleable__control:checked~label.sk-toggleable__label {background-color: #d4ebff;}#sk-container-id-1 input.sk-hidden--visually {border: 0;clip: rect(1px 1px 1px 1px);clip: rect(1px, 1px, 1px, 1px);height: 1px;margin: -1px;overflow: hidden;padding: 0;position: absolute;width: 1px;}#sk-container-id-1 div.sk-estimator {font-family: monospace;background-color: #f0f8ff;border: 1px dotted black;border-radius: 0.25em;box-sizing: border-box;margin-bottom: 0.5em;}#sk-container-id-1 div.sk-estimator:hover {background-color: #d4ebff;}#sk-container-id-1 div.sk-parallel-item::after {content: \"\";width: 100%;border-bottom: 1px solid gray;flex-grow: 1;}#sk-container-id-1 div.sk-label:hover label.sk-toggleable__label {background-color: #d4ebff;}#sk-container-id-1 div.sk-serial::before {content: \"\";position: absolute;border-left: 1px solid gray;box-sizing: border-box;top: 0;bottom: 0;left: 50%;z-index: 0;}#sk-container-id-1 div.sk-serial {display: flex;flex-direction: column;align-items: center;background-color: white;padding-right: 0.2em;padding-left: 0.2em;position: relative;}#sk-container-id-1 div.sk-item {position: relative;z-index: 1;}#sk-container-id-1 div.sk-parallel {display: flex;align-items: stretch;justify-content: center;background-color: white;position: relative;}#sk-container-id-1 div.sk-item::before, #sk-container-id-1 div.sk-parallel-item::before {content: \"\";position: absolute;border-left: 1px solid gray;box-sizing: border-box;top: 0;bottom: 0;left: 50%;z-index: -1;}#sk-container-id-1 div.sk-parallel-item {display: flex;flex-direction: column;z-index: 1;position: relative;background-color: white;}#sk-container-id-1 div.sk-parallel-item:first-child::after {align-self: flex-end;width: 50%;}#sk-container-id-1 div.sk-parallel-item:last-child::after {align-self: flex-start;width: 50%;}#sk-container-id-1 div.sk-parallel-item:only-child::after {width: 0;}#sk-container-id-1 div.sk-dashed-wrapped {border: 1px dashed gray;margin: 0 0.4em 0.5em 0.4em;box-sizing: border-box;padding-bottom: 0.4em;background-color: white;}#sk-container-id-1 div.sk-label label {font-family: monospace;font-weight: bold;display: inline-block;line-height: 1.2em;}#sk-container-id-1 div.sk-label-container {text-align: center;}#sk-container-id-1 div.sk-container {/* jupyter's `normalize.less` sets `[hidden] { display: none; }` but bootstrap.min.css set `[hidden] { display: none !important; }` so we also need the `!important` here to be able to override the default hidden behavior on the sphinx rendered scikit-learn.org. See: https://github.com/scikit-learn/scikit-learn/issues/21755 */display: inline-block !important;position: relative;}#sk-container-id-1 div.sk-text-repr-fallback {display: none;}</style><div id=\"sk-container-id-1\" class=\"sk-top-container\"><div class=\"sk-text-repr-fallback\"><pre>Pipeline(steps=[(&#x27;column&#x27;,\n",
       "                 ColumnTransformer(transformers=[(&#x27;num&#x27;,\n",
       "                                                  Pipeline(steps=[(&#x27;imputer&#x27;,\n",
       "                                                                   SimpleImputer()),\n",
       "                                                                  (&#x27;outlier&#x27;,\n",
       "                                                                   FunctionTransformer(func=&lt;function remove_outlier at 0x7fc8a7a6a4c0&gt;,\n",
       "                                                                                       kw_args={&#x27;q&#x27;: 0.05}))]),\n",
       "                                                  [&#x27;근무경력&#x27;, &#x27;대학성적&#x27;, &#x27;근무경력^2&#x27;,\n",
       "                                                   &#x27;근무경력_x_대학성적&#x27;,\n",
       "                                                   &#x27;대학_경력_standard deviation&#x27;,\n",
       "                                                   &#x27;대학_경력_variance&#x27;,\n",
       "                                                   &#x27;대학_경력_mean&#x27;, &#x27;대학_경력_sum&#x27;]),\n",
       "                                                 (&#x27;cat&#x27;,\n",
       "                                                  Pipeline(steps=[(&#x27;imputer&#x27;...\n",
       "                                                  Pipeline(steps=[(&#x27;pipeline&#x27;,\n",
       "                                                                   Pipeline(steps=[(&#x27;impuer&#x27;,\n",
       "                                                                                    FunctionTransformer(func=&lt;function &lt;lambda&gt; at 0x7fc8a7a6a8b0&gt;)),\n",
       "                                                                                   (&#x27;corpus&#x27;,\n",
       "                                                                                    FunctionTransformer(func=&lt;function &lt;lambda&gt; at 0x7fc8a7a6a820&gt;)),\n",
       "                                                                                   (&#x27;BoW&#x27;,\n",
       "                                                                                    CountVectorizer()),\n",
       "                                                                                   (&#x27;dense&#x27;,\n",
       "                                                                                    FunctionTransformer(accept_sparse=True,\n",
       "                                                                                                        func=&lt;function &lt;lambda&gt; at 0x7fc8a7a6a790&gt;))])),\n",
       "                                                                  (&#x27;myfeatureselector&#x27;,\n",
       "                                                                   MyFeatureSelector(p=0.03))]),\n",
       "                                                  &#x27;근무형태&#x27;)]))])</pre><b>In a Jupyter environment, please rerun this cell to show the HTML representation or trust the notebook. <br />On GitHub, the HTML representation is unable to render, please try loading this page with nbviewer.org.</b></div><div class=\"sk-container\" hidden><div class=\"sk-item sk-dashed-wrapped\"><div class=\"sk-label-container\"><div class=\"sk-label sk-toggleable\"><input class=\"sk-toggleable__control sk-hidden--visually\" id=\"sk-estimator-id-1\" type=\"checkbox\" ><label for=\"sk-estimator-id-1\" class=\"sk-toggleable__label sk-toggleable__label-arrow\">Pipeline</label><div class=\"sk-toggleable__content\"><pre>Pipeline(steps=[(&#x27;column&#x27;,\n",
       "                 ColumnTransformer(transformers=[(&#x27;num&#x27;,\n",
       "                                                  Pipeline(steps=[(&#x27;imputer&#x27;,\n",
       "                                                                   SimpleImputer()),\n",
       "                                                                  (&#x27;outlier&#x27;,\n",
       "                                                                   FunctionTransformer(func=&lt;function remove_outlier at 0x7fc8a7a6a4c0&gt;,\n",
       "                                                                                       kw_args={&#x27;q&#x27;: 0.05}))]),\n",
       "                                                  [&#x27;근무경력&#x27;, &#x27;대학성적&#x27;, &#x27;근무경력^2&#x27;,\n",
       "                                                   &#x27;근무경력_x_대학성적&#x27;,\n",
       "                                                   &#x27;대학_경력_standard deviation&#x27;,\n",
       "                                                   &#x27;대학_경력_variance&#x27;,\n",
       "                                                   &#x27;대학_경력_mean&#x27;, &#x27;대학_경력_sum&#x27;]),\n",
       "                                                 (&#x27;cat&#x27;,\n",
       "                                                  Pipeline(steps=[(&#x27;imputer&#x27;...\n",
       "                                                  Pipeline(steps=[(&#x27;pipeline&#x27;,\n",
       "                                                                   Pipeline(steps=[(&#x27;impuer&#x27;,\n",
       "                                                                                    FunctionTransformer(func=&lt;function &lt;lambda&gt; at 0x7fc8a7a6a8b0&gt;)),\n",
       "                                                                                   (&#x27;corpus&#x27;,\n",
       "                                                                                    FunctionTransformer(func=&lt;function &lt;lambda&gt; at 0x7fc8a7a6a820&gt;)),\n",
       "                                                                                   (&#x27;BoW&#x27;,\n",
       "                                                                                    CountVectorizer()),\n",
       "                                                                                   (&#x27;dense&#x27;,\n",
       "                                                                                    FunctionTransformer(accept_sparse=True,\n",
       "                                                                                                        func=&lt;function &lt;lambda&gt; at 0x7fc8a7a6a790&gt;))])),\n",
       "                                                                  (&#x27;myfeatureselector&#x27;,\n",
       "                                                                   MyFeatureSelector(p=0.03))]),\n",
       "                                                  &#x27;근무형태&#x27;)]))])</pre></div></div></div><div class=\"sk-serial\"><div class=\"sk-item sk-dashed-wrapped\"><div class=\"sk-label-container\"><div class=\"sk-label sk-toggleable\"><input class=\"sk-toggleable__control sk-hidden--visually\" id=\"sk-estimator-id-2\" type=\"checkbox\" ><label for=\"sk-estimator-id-2\" class=\"sk-toggleable__label sk-toggleable__label-arrow\">column: ColumnTransformer</label><div class=\"sk-toggleable__content\"><pre>ColumnTransformer(transformers=[(&#x27;num&#x27;,\n",
       "                                 Pipeline(steps=[(&#x27;imputer&#x27;, SimpleImputer()),\n",
       "                                                 (&#x27;outlier&#x27;,\n",
       "                                                  FunctionTransformer(func=&lt;function remove_outlier at 0x7fc8a7a6a4c0&gt;,\n",
       "                                                                      kw_args={&#x27;q&#x27;: 0.05}))]),\n",
       "                                 [&#x27;근무경력&#x27;, &#x27;대학성적&#x27;, &#x27;근무경력^2&#x27;, &#x27;근무경력_x_대학성적&#x27;,\n",
       "                                  &#x27;대학_경력_standard deviation&#x27;, &#x27;대학_경력_variance&#x27;,\n",
       "                                  &#x27;대학_경력_mean&#x27;, &#x27;대학_경력_sum&#x27;]),\n",
       "                                (&#x27;cat&#x27;,\n",
       "                                 Pipeline(steps=[(&#x27;imputer&#x27;,\n",
       "                                                  SimpleImputer(strategy=&#x27;m...\n",
       "                                 Pipeline(steps=[(&#x27;pipeline&#x27;,\n",
       "                                                  Pipeline(steps=[(&#x27;impuer&#x27;,\n",
       "                                                                   FunctionTransformer(func=&lt;function &lt;lambda&gt; at 0x7fc8a7a6a8b0&gt;)),\n",
       "                                                                  (&#x27;corpus&#x27;,\n",
       "                                                                   FunctionTransformer(func=&lt;function &lt;lambda&gt; at 0x7fc8a7a6a820&gt;)),\n",
       "                                                                  (&#x27;BoW&#x27;,\n",
       "                                                                   CountVectorizer()),\n",
       "                                                                  (&#x27;dense&#x27;,\n",
       "                                                                   FunctionTransformer(accept_sparse=True,\n",
       "                                                                                       func=&lt;function &lt;lambda&gt; at 0x7fc8a7a6a790&gt;))])),\n",
       "                                                 (&#x27;myfeatureselector&#x27;,\n",
       "                                                  MyFeatureSelector(p=0.03))]),\n",
       "                                 &#x27;근무형태&#x27;)])</pre></div></div></div><div class=\"sk-parallel\"><div class=\"sk-parallel-item\"><div class=\"sk-item\"><div class=\"sk-label-container\"><div class=\"sk-label sk-toggleable\"><input class=\"sk-toggleable__control sk-hidden--visually\" id=\"sk-estimator-id-3\" type=\"checkbox\" ><label for=\"sk-estimator-id-3\" class=\"sk-toggleable__label sk-toggleable__label-arrow\">num</label><div class=\"sk-toggleable__content\"><pre>[&#x27;근무경력&#x27;, &#x27;대학성적&#x27;, &#x27;근무경력^2&#x27;, &#x27;근무경력_x_대학성적&#x27;, &#x27;대학_경력_standard deviation&#x27;, &#x27;대학_경력_variance&#x27;, &#x27;대학_경력_mean&#x27;, &#x27;대학_경력_sum&#x27;]</pre></div></div></div><div class=\"sk-serial\"><div class=\"sk-item\"><div class=\"sk-serial\"><div class=\"sk-item\"><div class=\"sk-estimator sk-toggleable\"><input class=\"sk-toggleable__control sk-hidden--visually\" id=\"sk-estimator-id-4\" type=\"checkbox\" ><label for=\"sk-estimator-id-4\" class=\"sk-toggleable__label sk-toggleable__label-arrow\">SimpleImputer</label><div class=\"sk-toggleable__content\"><pre>SimpleImputer()</pre></div></div></div><div class=\"sk-item\"><div class=\"sk-estimator sk-toggleable\"><input class=\"sk-toggleable__control sk-hidden--visually\" id=\"sk-estimator-id-5\" type=\"checkbox\" ><label for=\"sk-estimator-id-5\" class=\"sk-toggleable__label sk-toggleable__label-arrow\">FunctionTransformer</label><div class=\"sk-toggleable__content\"><pre>FunctionTransformer(func=&lt;function remove_outlier at 0x7fc8a7a6a4c0&gt;,\n",
       "                    kw_args={&#x27;q&#x27;: 0.05})</pre></div></div></div></div></div></div></div></div><div class=\"sk-parallel-item\"><div class=\"sk-item\"><div class=\"sk-label-container\"><div class=\"sk-label sk-toggleable\"><input class=\"sk-toggleable__control sk-hidden--visually\" id=\"sk-estimator-id-6\" type=\"checkbox\" ><label for=\"sk-estimator-id-6\" class=\"sk-toggleable__label sk-toggleable__label-arrow\">cat</label><div class=\"sk-toggleable__content\"><pre>[&#x27;직종&#x27;, &#x27;세부직종&#x27;, &#x27;출신대학&#x27;, &#x27;대학전공&#x27;, &#x27;어학시험&#x27;, &#x27;자격증&#x27;, &#x27;근무경력_세분화&#x27;, &#x27;마지막근무형태&#x27;, &#x27;ID&#x27;, &#x27;근무지역_a&#x27;, &#x27;근무지역_b&#x27;, &#x27;근무지역_c&#x27;, &#x27;해외근무지역&#x27;, &#x27;단과대&#x27;, &#x27;대학전공_and_경력세분화&#x27;, &#x27;근무경력_y&#x27;, &#x27;근무경력_m&#x27;, &#x27;근무희망형태&#x27;, &#x27;근무지역_소분류&#x27;]</pre></div></div></div><div class=\"sk-serial\"><div class=\"sk-item\"><div class=\"sk-serial\"><div class=\"sk-item\"><div class=\"sk-estimator sk-toggleable\"><input class=\"sk-toggleable__control sk-hidden--visually\" id=\"sk-estimator-id-7\" type=\"checkbox\" ><label for=\"sk-estimator-id-7\" class=\"sk-toggleable__label sk-toggleable__label-arrow\">SimpleImputer</label><div class=\"sk-toggleable__content\"><pre>SimpleImputer(strategy=&#x27;most_frequent&#x27;)</pre></div></div></div><div class=\"sk-item\"><div class=\"sk-estimator sk-toggleable\"><input class=\"sk-toggleable__control sk-hidden--visually\" id=\"sk-estimator-id-8\" type=\"checkbox\" ><label for=\"sk-estimator-id-8\" class=\"sk-toggleable__label sk-toggleable__label-arrow\">OrdinalEncoder</label><div class=\"sk-toggleable__content\"><pre>OrdinalEncoder(dtype=&lt;class &#x27;object&#x27;&gt;, handle_unknown=&#x27;use_encoded_value&#x27;,\n",
       "               unknown_value=99999)</pre></div></div></div></div></div></div></div></div><div class=\"sk-parallel-item\"><div class=\"sk-item\"><div class=\"sk-label-container\"><div class=\"sk-label sk-toggleable\"><input class=\"sk-toggleable__control sk-hidden--visually\" id=\"sk-estimator-id-9\" type=\"checkbox\" ><label for=\"sk-estimator-id-9\" class=\"sk-toggleable__label sk-toggleable__label-arrow\">bin1</label><div class=\"sk-toggleable__content\"><pre>직무태그</pre></div></div></div><div class=\"sk-serial\"><div class=\"sk-item\"><div class=\"sk-serial\"><div class=\"sk-item\"><div class=\"sk-label-container\"><div class=\"sk-label sk-toggleable\"><input class=\"sk-toggleable__control sk-hidden--visually\" id=\"sk-estimator-id-10\" type=\"checkbox\" ><label for=\"sk-estimator-id-10\" class=\"sk-toggleable__label sk-toggleable__label-arrow\">pipeline: Pipeline</label><div class=\"sk-toggleable__content\"><pre>Pipeline(steps=[(&#x27;impuer&#x27;,\n",
       "                 FunctionTransformer(func=&lt;function &lt;lambda&gt; at 0x7fc8a7a6a8b0&gt;)),\n",
       "                (&#x27;corpus&#x27;,\n",
       "                 FunctionTransformer(func=&lt;function &lt;lambda&gt; at 0x7fc8a7a6a820&gt;)),\n",
       "                (&#x27;BoW&#x27;, CountVectorizer()),\n",
       "                (&#x27;dense&#x27;,\n",
       "                 FunctionTransformer(accept_sparse=True,\n",
       "                                     func=&lt;function &lt;lambda&gt; at 0x7fc8a7a6a790&gt;))])</pre></div></div></div><div class=\"sk-serial\"><div class=\"sk-item\"><div class=\"sk-estimator sk-toggleable\"><input class=\"sk-toggleable__control sk-hidden--visually\" id=\"sk-estimator-id-11\" type=\"checkbox\" ><label for=\"sk-estimator-id-11\" class=\"sk-toggleable__label sk-toggleable__label-arrow\">FunctionTransformer</label><div class=\"sk-toggleable__content\"><pre>FunctionTransformer(func=&lt;function &lt;lambda&gt; at 0x7fc8a7a6a8b0&gt;)</pre></div></div></div><div class=\"sk-item\"><div class=\"sk-estimator sk-toggleable\"><input class=\"sk-toggleable__control sk-hidden--visually\" id=\"sk-estimator-id-12\" type=\"checkbox\" ><label for=\"sk-estimator-id-12\" class=\"sk-toggleable__label sk-toggleable__label-arrow\">FunctionTransformer</label><div class=\"sk-toggleable__content\"><pre>FunctionTransformer(func=&lt;function &lt;lambda&gt; at 0x7fc8a7a6a820&gt;)</pre></div></div></div><div class=\"sk-item\"><div class=\"sk-estimator sk-toggleable\"><input class=\"sk-toggleable__control sk-hidden--visually\" id=\"sk-estimator-id-13\" type=\"checkbox\" ><label for=\"sk-estimator-id-13\" class=\"sk-toggleable__label sk-toggleable__label-arrow\">CountVectorizer</label><div class=\"sk-toggleable__content\"><pre>CountVectorizer()</pre></div></div></div><div class=\"sk-item\"><div class=\"sk-estimator sk-toggleable\"><input class=\"sk-toggleable__control sk-hidden--visually\" id=\"sk-estimator-id-14\" type=\"checkbox\" ><label for=\"sk-estimator-id-14\" class=\"sk-toggleable__label sk-toggleable__label-arrow\">FunctionTransformer</label><div class=\"sk-toggleable__content\"><pre>FunctionTransformer(accept_sparse=True,\n",
       "                    func=&lt;function &lt;lambda&gt; at 0x7fc8a7a6a790&gt;)</pre></div></div></div></div></div><div class=\"sk-item\"><div class=\"sk-estimator sk-toggleable\"><input class=\"sk-toggleable__control sk-hidden--visually\" id=\"sk-estimator-id-15\" type=\"checkbox\" ><label for=\"sk-estimator-id-15\" class=\"sk-toggleable__label sk-toggleable__label-arrow\">TruncatedSVD</label><div class=\"sk-toggleable__content\"><pre>TruncatedSVD(n_components=50, random_state=0)</pre></div></div></div></div></div></div></div></div><div class=\"sk-parallel-item\"><div class=\"sk-item\"><div class=\"sk-label-container\"><div class=\"sk-label sk-toggleable\"><input class=\"sk-toggleable__control sk-hidden--visually\" id=\"sk-estimator-id-16\" type=\"checkbox\" ><label for=\"sk-estimator-id-16\" class=\"sk-toggleable__label sk-toggleable__label-arrow\">bin2</label><div class=\"sk-toggleable__content\"><pre>근무지역</pre></div></div></div><div class=\"sk-serial\"><div class=\"sk-item\"><div class=\"sk-serial\"><div class=\"sk-item\"><div class=\"sk-label-container\"><div class=\"sk-label sk-toggleable\"><input class=\"sk-toggleable__control sk-hidden--visually\" id=\"sk-estimator-id-17\" type=\"checkbox\" ><label for=\"sk-estimator-id-17\" class=\"sk-toggleable__label sk-toggleable__label-arrow\">pipeline: Pipeline</label><div class=\"sk-toggleable__content\"><pre>Pipeline(steps=[(&#x27;impuer&#x27;,\n",
       "                 FunctionTransformer(func=&lt;function &lt;lambda&gt; at 0x7fc8a7a6a8b0&gt;)),\n",
       "                (&#x27;corpus&#x27;,\n",
       "                 FunctionTransformer(func=&lt;function &lt;lambda&gt; at 0x7fc8a7a6a820&gt;)),\n",
       "                (&#x27;BoW&#x27;, CountVectorizer()),\n",
       "                (&#x27;dense&#x27;,\n",
       "                 FunctionTransformer(accept_sparse=True,\n",
       "                                     func=&lt;function &lt;lambda&gt; at 0x7fc8a7a6a790&gt;))])</pre></div></div></div><div class=\"sk-serial\"><div class=\"sk-item\"><div class=\"sk-estimator sk-toggleable\"><input class=\"sk-toggleable__control sk-hidden--visually\" id=\"sk-estimator-id-18\" type=\"checkbox\" ><label for=\"sk-estimator-id-18\" class=\"sk-toggleable__label sk-toggleable__label-arrow\">FunctionTransformer</label><div class=\"sk-toggleable__content\"><pre>FunctionTransformer(func=&lt;function &lt;lambda&gt; at 0x7fc8a7a6a8b0&gt;)</pre></div></div></div><div class=\"sk-item\"><div class=\"sk-estimator sk-toggleable\"><input class=\"sk-toggleable__control sk-hidden--visually\" id=\"sk-estimator-id-19\" type=\"checkbox\" ><label for=\"sk-estimator-id-19\" class=\"sk-toggleable__label sk-toggleable__label-arrow\">FunctionTransformer</label><div class=\"sk-toggleable__content\"><pre>FunctionTransformer(func=&lt;function &lt;lambda&gt; at 0x7fc8a7a6a820&gt;)</pre></div></div></div><div class=\"sk-item\"><div class=\"sk-estimator sk-toggleable\"><input class=\"sk-toggleable__control sk-hidden--visually\" id=\"sk-estimator-id-20\" type=\"checkbox\" ><label for=\"sk-estimator-id-20\" class=\"sk-toggleable__label sk-toggleable__label-arrow\">CountVectorizer</label><div class=\"sk-toggleable__content\"><pre>CountVectorizer()</pre></div></div></div><div class=\"sk-item\"><div class=\"sk-estimator sk-toggleable\"><input class=\"sk-toggleable__control sk-hidden--visually\" id=\"sk-estimator-id-21\" type=\"checkbox\" ><label for=\"sk-estimator-id-21\" class=\"sk-toggleable__label sk-toggleable__label-arrow\">FunctionTransformer</label><div class=\"sk-toggleable__content\"><pre>FunctionTransformer(accept_sparse=True,\n",
       "                    func=&lt;function &lt;lambda&gt; at 0x7fc8a7a6a790&gt;)</pre></div></div></div></div></div><div class=\"sk-item\"><div class=\"sk-estimator sk-toggleable\"><input class=\"sk-toggleable__control sk-hidden--visually\" id=\"sk-estimator-id-22\" type=\"checkbox\" ><label for=\"sk-estimator-id-22\" class=\"sk-toggleable__label sk-toggleable__label-arrow\">MyFeatureSelector</label><div class=\"sk-toggleable__content\"><pre>MyFeatureSelector(p=0.03)</pre></div></div></div></div></div></div></div></div><div class=\"sk-parallel-item\"><div class=\"sk-item\"><div class=\"sk-label-container\"><div class=\"sk-label sk-toggleable\"><input class=\"sk-toggleable__control sk-hidden--visually\" id=\"sk-estimator-id-23\" type=\"checkbox\" ><label for=\"sk-estimator-id-23\" class=\"sk-toggleable__label sk-toggleable__label-arrow\">bin3</label><div class=\"sk-toggleable__content\"><pre>근무형태</pre></div></div></div><div class=\"sk-serial\"><div class=\"sk-item\"><div class=\"sk-serial\"><div class=\"sk-item\"><div class=\"sk-label-container\"><div class=\"sk-label sk-toggleable\"><input class=\"sk-toggleable__control sk-hidden--visually\" id=\"sk-estimator-id-24\" type=\"checkbox\" ><label for=\"sk-estimator-id-24\" class=\"sk-toggleable__label sk-toggleable__label-arrow\">pipeline: Pipeline</label><div class=\"sk-toggleable__content\"><pre>Pipeline(steps=[(&#x27;impuer&#x27;,\n",
       "                 FunctionTransformer(func=&lt;function &lt;lambda&gt; at 0x7fc8a7a6a8b0&gt;)),\n",
       "                (&#x27;corpus&#x27;,\n",
       "                 FunctionTransformer(func=&lt;function &lt;lambda&gt; at 0x7fc8a7a6a820&gt;)),\n",
       "                (&#x27;BoW&#x27;, CountVectorizer()),\n",
       "                (&#x27;dense&#x27;,\n",
       "                 FunctionTransformer(accept_sparse=True,\n",
       "                                     func=&lt;function &lt;lambda&gt; at 0x7fc8a7a6a790&gt;))])</pre></div></div></div><div class=\"sk-serial\"><div class=\"sk-item\"><div class=\"sk-estimator sk-toggleable\"><input class=\"sk-toggleable__control sk-hidden--visually\" id=\"sk-estimator-id-25\" type=\"checkbox\" ><label for=\"sk-estimator-id-25\" class=\"sk-toggleable__label sk-toggleable__label-arrow\">FunctionTransformer</label><div class=\"sk-toggleable__content\"><pre>FunctionTransformer(func=&lt;function &lt;lambda&gt; at 0x7fc8a7a6a8b0&gt;)</pre></div></div></div><div class=\"sk-item\"><div class=\"sk-estimator sk-toggleable\"><input class=\"sk-toggleable__control sk-hidden--visually\" id=\"sk-estimator-id-26\" type=\"checkbox\" ><label for=\"sk-estimator-id-26\" class=\"sk-toggleable__label sk-toggleable__label-arrow\">FunctionTransformer</label><div class=\"sk-toggleable__content\"><pre>FunctionTransformer(func=&lt;function &lt;lambda&gt; at 0x7fc8a7a6a820&gt;)</pre></div></div></div><div class=\"sk-item\"><div class=\"sk-estimator sk-toggleable\"><input class=\"sk-toggleable__control sk-hidden--visually\" id=\"sk-estimator-id-27\" type=\"checkbox\" ><label for=\"sk-estimator-id-27\" class=\"sk-toggleable__label sk-toggleable__label-arrow\">CountVectorizer</label><div class=\"sk-toggleable__content\"><pre>CountVectorizer()</pre></div></div></div><div class=\"sk-item\"><div class=\"sk-estimator sk-toggleable\"><input class=\"sk-toggleable__control sk-hidden--visually\" id=\"sk-estimator-id-28\" type=\"checkbox\" ><label for=\"sk-estimator-id-28\" class=\"sk-toggleable__label sk-toggleable__label-arrow\">FunctionTransformer</label><div class=\"sk-toggleable__content\"><pre>FunctionTransformer(accept_sparse=True,\n",
       "                    func=&lt;function &lt;lambda&gt; at 0x7fc8a7a6a790&gt;)</pre></div></div></div></div></div><div class=\"sk-item\"><div class=\"sk-estimator sk-toggleable\"><input class=\"sk-toggleable__control sk-hidden--visually\" id=\"sk-estimator-id-29\" type=\"checkbox\" ><label for=\"sk-estimator-id-29\" class=\"sk-toggleable__label sk-toggleable__label-arrow\">MyFeatureSelector</label><div class=\"sk-toggleable__content\"><pre>MyFeatureSelector(p=0.03)</pre></div></div></div></div></div></div></div></div></div></div></div></div></div></div>"
      ],
      "text/plain": [
       "Pipeline(steps=[('column',\n",
       "                 ColumnTransformer(transformers=[('num',\n",
       "                                                  Pipeline(steps=[('imputer',\n",
       "                                                                   SimpleImputer()),\n",
       "                                                                  ('outlier',\n",
       "                                                                   FunctionTransformer(func=<function remove_outlier at 0x7fc8a7a6a4c0>,\n",
       "                                                                                       kw_args={'q': 0.05}))]),\n",
       "                                                  ['근무경력', '대학성적', '근무경력^2',\n",
       "                                                   '근무경력_x_대학성적',\n",
       "                                                   '대학_경력_standard deviation',\n",
       "                                                   '대학_경력_variance',\n",
       "                                                   '대학_경력_mean', '대학_경력_sum']),\n",
       "                                                 ('cat',\n",
       "                                                  Pipeline(steps=[('imputer'...\n",
       "                                                  Pipeline(steps=[('pipeline',\n",
       "                                                                   Pipeline(steps=[('impuer',\n",
       "                                                                                    FunctionTransformer(func=<function <lambda> at 0x7fc8a7a6a8b0>)),\n",
       "                                                                                   ('corpus',\n",
       "                                                                                    FunctionTransformer(func=<function <lambda> at 0x7fc8a7a6a820>)),\n",
       "                                                                                   ('BoW',\n",
       "                                                                                    CountVectorizer()),\n",
       "                                                                                   ('dense',\n",
       "                                                                                    FunctionTransformer(accept_sparse=True,\n",
       "                                                                                                        func=<function <lambda> at 0x7fc8a7a6a790>))])),\n",
       "                                                                  ('myfeatureselector',\n",
       "                                                                   MyFeatureSelector(p=0.03))]),\n",
       "                                                  '근무형태')]))])"
      ]
     },
     "execution_count": 60,
     "metadata": {},
     "output_type": "execute_result"
    }
   ],
   "source": [
    "# 상하한값 제한을 통한 결측값 처리 함수: FunctionTransformer를 통해 호출\n",
    "def remove_outlier(X, q=0.05):  \n",
    "    df = pd.DataFrame(X)\n",
    "    return df.apply(lambda x: x.clip(x.quantile(q), x.quantile(1-q)), axis=0).values\n",
    "\n",
    "# 회귀분석의 계수검정을 이용한 피처선택 전처리기 클래스\n",
    "class MyFeatureSelector(TransformerMixin, BaseEstimator):\n",
    "    # 전처리기 생성 즉, MyFeatureSelector() 호출시 실행\n",
    "    def __init__(self, p=0.01):\n",
    "        self.p = p\n",
    "\n",
    "    # 전처리기의 fit() 호출시 실행\n",
    "    def fit(self, X, y=None):\n",
    "        X = sm.add_constant(X)\n",
    "        results = sm.OLS(y, X).fit()\n",
    "        self.cols = list(results.pvalues[1:] <= self.p)\n",
    "        return self\n",
    "    \n",
    "    # 전처리기의 transform() 호출시 실행\n",
    "    def transform(self, X):\n",
    "        return X[:,self.cols].astype(np.int64)        \n",
    "    \n",
    "numeric_transformer = Pipeline(\n",
    "    steps=[\n",
    "        (\"imputer\", SimpleImputer(strategy=\"mean\")),\n",
    "        (\"outlier\", FunctionTransformer(remove_outlier, kw_args={'q':0.05})),\n",
    "    ]\n",
    ")\n",
    "\n",
    "categorical_transformer = Pipeline(\n",
    "    steps=[\n",
    "        (\"imputer\", SimpleImputer(strategy=\"most_frequent\")), \n",
    "        (\"encoder\", OrdinalEncoder(handle_unknown='use_encoded_value', unknown_value=99999, dtype=np.object)),\n",
    "    ]\n",
    ")\n",
    "\n",
    "binary_transformer = Pipeline(\n",
    "    steps=[\n",
    "        (\"impuer\", FunctionTransformer(lambda x: x.fillna('없음'))),      \n",
    "        (\"corpus\", FunctionTransformer(lambda x: x.str.replace('·',',').str.split(',').str.join(\" \"))),\n",
    "        (\"BoW\", CountVectorizer()),\n",
    "        (\"dense\", FunctionTransformer(lambda x: x.toarray().astype(int), accept_sparse=True)),\n",
    "    ]\n",
    ")\n",
    "\n",
    "column_transformer = ColumnTransformer(\n",
    "    transformers=[\n",
    "        (\"num\", numeric_transformer, numeric_features),\n",
    "        (\"cat\", categorical_transformer, categorical_features),\n",
    "        (\"bin1\", make_pipeline(binary_transformer, TruncatedSVD(n_components=NCOMP,random_state=SEED)), binary_features[0]),\n",
    "        (\"bin2\", make_pipeline(binary_transformer, MyFeatureSelector(p=P)), binary_features[1]),\n",
    "        (\"bin3\", make_pipeline(binary_transformer, MyFeatureSelector(p=P)), binary_features[2]),\n",
    "    ]\n",
    ")\n",
    "\n",
    "preprocessor = Pipeline(\n",
    "    steps=[\n",
    "        (\"column\", column_transformer), \n",
    "    ]\n",
    ")\n",
    "\n",
    "set_config(display=\"diagram\")\n",
    "preprocessor"
   ]
  },
  {
   "cell_type": "markdown",
   "id": "80025751",
   "metadata": {},
   "source": [
    "### 데이터 전처리"
   ]
  },
  {
   "cell_type": "code",
   "execution_count": 61,
   "id": "33aed24a",
   "metadata": {},
   "outputs": [],
   "source": [
    "X_train = preprocessor.fit_transform(X_train, y_train)\n",
    "X_test = preprocessor.transform(X_test)"
   ]
  },
  {
   "cell_type": "markdown",
   "id": "830657a0",
   "metadata": {},
   "source": [
    "### 모형생성"
   ]
  },
  {
   "cell_type": "code",
   "execution_count": 62,
   "id": "5bdb72fa",
   "metadata": {
    "tags": [
     "parameters"
    ]
   },
   "outputs": [
    {
     "name": "stdout",
     "output_type": "stream",
     "text": [
      "\n",
      "CatBoost CV scores:  [733.73835886 766.28883574 741.73722848 746.11383395 827.60444185\n",
      " 821.77815453 816.26990527 918.02158626 890.20005916 990.98718292]\n",
      "CatBoost CV mean = 829.23 with std = 371.64\n",
      "CPU times: user 32min 23s, sys: 1min 48s, total: 34min 12s\n",
      "Wall time: 3min 42s\n"
     ]
    }
   ],
   "source": [
    "%%time\n",
    "\n",
    "# 최적화된 하이퍼파라미터로 OOF를 수행하여 최종 CatBoost 모형 생성:\n",
    "# No tuning => tuning한 모델에 비해 성능이 떨어지지 않음\n",
    "\n",
    "#sscv = ShuffleSplit(test_size=.3334, n_splits=5, random_state=0)\n",
    "models = cross_validate(CatBoostRegressor(cat_features=cat_index, verbose=False, random_state=SEED),\n",
    "                        X_train, y_train, \n",
    "                        cv=NFOLDS, \n",
    "                        scoring='neg_mean_squared_error', \n",
    "                        return_estimator=True)\n",
    "oof_pred = np.array([m.predict(X_test) for m in models['estimator']]).mean(axis=0)\n",
    "\n",
    "scores = models['test_score']\n",
    "print(\"\\nCatBoost CV scores: \", np.sqrt(-1*scores))\n",
    "print(\"CatBoost CV mean = %.2f\" % np.sqrt(-1*scores.mean()), \"with std = %.2f\" % np.sqrt(scores.std()))"
   ]
  },
  {
   "cell_type": "code",
   "execution_count": 63,
   "id": "023833d7",
   "metadata": {},
   "outputs": [],
   "source": [
    "# # submission 화일 생성\n",
    "# filename = f'catboost_{CATBOOST_VERSION}_{np.sqrt(-1*scores.mean()):.2f}.csv'\n",
    "# pd.DataFrame({'ID':test_id, 'Salary':oof_pred}).to_csv(filename, index=False)"
   ]
  },
  {
   "cell_type": "markdown",
   "id": "c27d1983",
   "metadata": {},
   "source": [
    "- 이렇게 나와야됨.\n",
    "\n",
    "1) CatBoost CV mean = 829.27 with std = 371.59 \n",
    "-> Public score : 799.3711\n",
    "\n",
    "2) 인서울여부 피처 추가(채원) -> 범주형 변수 추가\n",
    "\n",
    "-> CatBoost CV mean = 828.98 with std = 372.72\n",
    "\n",
    "3) 근무지역_소분류 피처 추가(채원) -> 범주형 변수 추가\n",
    "\n",
    "-> CatBoost CV mean = 828.12 with std = 367.30\n",
    "\n",
    "4) '대학_경력_standard deviation', '대학_경력_variance', '대학_경력_mean','대학_경력_sum' -> 수치형변수 추가\n",
    "\n",
    "-> CatBoost CV mean = 828.02 with std = 371.92\n",
    "\n",
    "5) '근무경력_x_대학성적' -> 수치형 변수 추가\n",
    "\n",
    "-> CatBoost CV mean = 828.18 with std = 373.77\n",
    "\n",
    "6) '서울4년제대학' -> 범주형 변수 추가\n",
    "\n",
    "-> CatBoost CV mean = 828.39 with std = 370.11\n",
    "\n",
    "7) 인서울여부 / '서울4년제대학' -> 피처 2개 추가\n",
    "\n",
    "-> CatBoost CV mean = 830.28 with std = 369.80\n",
    "\n",
    "8) 근무지역_소분류 / '대학_경력_standard deviation', '대학_경력_variance', '대학_경력_mean','대학_경력_sum'\n",
    "\n",
    "-> CatBoost CV mean = 828.75 with std = 369.82\n",
    "\n",
    "9) 근무지역_소분류 /  '대학_경력_mean','대학_경력_sum'\n",
    "\n",
    "-> CatBoost CV mean = 828.97 with std = 374.40\n",
    "\n",
    "10) 근무지역_소분류 / '근무경력_x_대학성적'\n",
    "\n",
    "-> CatBoost CV mean = 830.67 with std = 375.53\n",
    "\n",
    "11) 모두 - 서울4년제 대학 제외 \n",
    "\n",
    "-> CatBoost CV mean = 827.77 with std = 367.87\n",
    "\n",
    "12) 모두\n",
    "\n",
    "-> CatBoost CV mean = 828.88 with std = 372.65\n",
    "\n",
    "13) 모두 - 서울4년제 대학 제외 - 인서울여부\n",
    "\n",
    "-> CatBoost CV mean = 829.23 with std = 371.64\n",
    "\n"
   ]
  },
  {
   "cell_type": "code",
   "execution_count": null,
   "id": "2acd32c3",
   "metadata": {},
   "outputs": [],
   "source": []
  },
  {
   "cell_type": "code",
   "execution_count": null,
   "id": "d58b5c35",
   "metadata": {},
   "outputs": [],
   "source": []
  },
  {
   "cell_type": "code",
   "execution_count": null,
   "id": "7c7340f7",
   "metadata": {},
   "outputs": [],
   "source": []
  },
  {
   "cell_type": "code",
   "execution_count": null,
   "id": "0bb6ee6a",
   "metadata": {},
   "outputs": [],
   "source": []
  },
  {
   "cell_type": "code",
   "execution_count": null,
   "id": "bc17a5dc",
   "metadata": {},
   "outputs": [],
   "source": []
  },
  {
   "cell_type": "code",
   "execution_count": null,
   "id": "9869e5ff",
   "metadata": {},
   "outputs": [],
   "source": []
  }
 ],
 "metadata": {
  "kernelspec": {
   "display_name": "Python 3 (ipykernel)",
   "language": "python",
   "name": "python3"
  },
  "language_info": {
   "codemirror_mode": {
    "name": "ipython",
    "version": 3
   },
   "file_extension": ".py",
   "mimetype": "text/x-python",
   "name": "python",
   "nbconvert_exporter": "python",
   "pygments_lexer": "ipython3",
   "version": "3.9.7"
  }
 },
 "nbformat": 4,
 "nbformat_minor": 5
}
